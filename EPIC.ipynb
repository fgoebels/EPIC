{
 "cells": [
  {
   "cell_type": "markdown",
   "metadata": {},
   "source": [
    "# EPIC"
   ]
  },
  {
   "cell_type": "code",
   "execution_count": 1,
   "metadata": {
    "collapsed": false
   },
   "outputs": [],
   "source": [
    "from __future__ import print_function\n",
    "from ipywidgets import interact, interactive, fixed\n",
    "import ipywidgets as widgets\n",
    "from IPython.display import display\n",
    "import os\n",
    "\n",
    "print(os.getcwd())\n",
    "from ipywidgets import widgets, interact\n",
    "val = 0\n",
    "def f(**kwargs):\n",
    "    return None\n",
    "\n",
    "features = interactive(f, MI = False, Bayes=False, Euclidean=False, WCC=False, Jaccard=False, PCCN=False, PCC=False, Apex=False)\n",
    "directoryName = interactive(f, directory=\"input directory\")\n",
    "num_cores  = interactive(f, num_cores=\"1\")\n",
    "clf = interactive(f, classifier = (\"random forest\", \"SVM\"))\n",
    "target_scpecies = interactive(f, target_species= \"taxid i.e. 6239 (Worm)\")\n",
    "display(features)\n",
    "display(directoryName)\n",
    "display(num_cores)\n",
    "display(clf)\n",
    "display(target_scpecies)"
   ]
  },
  {
   "cell_type": "code",
   "execution_count": null,
   "metadata": {
    "collapsed": true
   },
   "outputs": [],
   "source": []
  },
  {
   "cell_type": "code",
   "execution_count": 110,
   "metadata": {
    "collapsed": false
   },
   "outputs": [
    {
     "name": "stdout",
     "output_type": "stream",
     "text": [
      "['', '/Users/florian/anaconda3/envs/py27/lib/python27.zip', '/Users/florian/anaconda3/envs/py27/lib/python2.7', '/Users/florian/anaconda3/envs/py27/lib/python2.7/plat-darwin', '/Users/florian/anaconda3/envs/py27/lib/python2.7/plat-mac', '/Users/florian/anaconda3/envs/py27/lib/python2.7/plat-mac/lib-scriptpackages', '/Users/florian/anaconda3/envs/py27/lib/python2.7/lib-tk', '/Users/florian/anaconda3/envs/py27/lib/python2.7/lib-old', '/Users/florian/anaconda3/envs/py27/lib/python2.7/lib-dynload', '/Users/florian/anaconda3/envs/py27/lib/python2.7/site-packages', '/Users/florian/anaconda3/envs/py27/lib/python2.7/site-packages/setuptools-27.2.0-py2.7.egg', '/Users/florian/anaconda3/envs/py27/lib/python2.7/site-packages/IPython/extensions', '/Users/florian/.ipython']\n"
     ]
    }
   ],
   "source": [
    "import sys\n",
    "print(sys.path)"
   ]
  },
  {
   "cell_type": "code",
   "execution_count": 6,
   "metadata": {
    "collapsed": false
   },
   "outputs": [
    {
     "name": "stdout",
     "output_type": "stream",
     "text": [
      "{'classifier': u'SVM'}\n"
     ]
    }
   ],
   "source": [
    "print(clf.kwargs)"
   ]
  },
  {
   "cell_type": "code",
   "execution_count": null,
   "metadata": {
    "collapsed": true
   },
   "outputs": [],
   "source": []
  }
 ],
 "metadata": {
  "anaconda-cloud": {},
  "kernelspec": {
   "display_name": "Python [default]",
   "language": "python",
   "name": "python2"
  },
  "language_info": {
   "codemirror_mode": {
    "name": "ipython",
    "version": 2
   },
   "file_extension": ".py",
   "mimetype": "text/x-python",
   "name": "python",
   "nbconvert_exporter": "python",
   "pygments_lexer": "ipython2",
   "version": "2.7.12"
  },
  "widgets": {
   "state": {
    "14efb11963164cff9bafea2b293f0d9a": {
     "views": [
      {
       "cell_index": 0
      }
     ]
    },
    "1b908cebdebe4fc5931d1762fc5f65fb": {
     "views": [
      {
       "cell_index": 0
      }
     ]
    },
    "61faabb8b15e4942a8f711c57a6ca08c": {
     "views": [
      {
       "cell_index": 0
      }
     ]
    },
    "66c7e6832dc3470383857f9579ef9aef": {
     "views": [
      {
       "cell_index": 0
      }
     ]
    },
    "a58a40f67508477c9ac56192f1f99bfa": {
     "views": [
      {
       "cell_index": 0
      }
     ]
    }
   },
   "version": "1.2.0"
  }
 },
 "nbformat": 4,
 "nbformat_minor": 1
}
