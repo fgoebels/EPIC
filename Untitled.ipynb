{
 "cells": [
  {
   "cell_type": "code",
   "execution_count": 13,
   "metadata": {
    "collapsed": false
   },
   "outputs": [
    {
     "name": "stdout",
     "output_type": "stream",
     "text": [
      "fuu\n",
      "5648\n"
     ]
    }
   ],
   "source": [
    "print(\"fuu\")\n",
    "import os, sys\n",
    "#print os.path\n",
    "#sys.path.append(\"/Users/florian/workspace/EPIC/src\")\n",
    "import GoldStandard as GS \n",
    "import CalculateCoElutionScores as CS\n",
    "reference = GS.Goldstandard_from_reference_File(\"/Users/florian/Desktop/Ce_gs.txt\", found_prots=\"\")\n",
    "positive = reference.goldstandard_positive\n",
    "print len(positive)"
   ]
  }
 ],
 "metadata": {
  "anaconda-cloud": {},
  "kernelspec": {
   "display_name": "Python [conda env:py27]",
   "language": "python",
   "name": "conda-env-py27-py"
  },
  "language_info": {
   "codemirror_mode": {
    "name": "ipython",
    "version": 2
   },
   "file_extension": ".py",
   "mimetype": "text/x-python",
   "name": "python",
   "nbconvert_exporter": "python",
   "pygments_lexer": "ipython2",
   "version": "2.7.12"
  }
 },
 "nbformat": 4,
 "nbformat_minor": 1
}
