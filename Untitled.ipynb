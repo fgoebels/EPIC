{
 "cells": [
  {
   "cell_type": "code",
   "execution_count": 62,
   "metadata": {
    "collapsed": false
   },
   "outputs": [
    {
     "name": "stdout",
     "output_type": "stream",
     "text": [
      "/Users/florian/workspace/EPIC\n"
     ]
    }
   ],
   "source": [
    "from __future__ import print_function\n",
    "from ipywidgets import interact, interactive, fixed\n",
    "import ipywidgets as widgets\n",
    "from IPython.display import display\n",
    "import os\n",
    "\n",
    "print(os.getcwd())\n",
    "from ipywidgets import widgets, interact\n",
    "val = 0\n",
    "def f(**kwargs):\n",
    "    return None\n",
    "\n",
    "feautes = interactive(f, x = False, y=False, z=False)\n",
    "display(feautes)"
   ]
  },
  {
   "cell_type": "code",
   "execution_count": 63,
   "metadata": {
    "collapsed": false
   },
   "outputs": [
    {
     "name": "stdout",
     "output_type": "stream",
     "text": [
      "{'y': False, 'x': False, 'z': False}\n"
     ]
    }
   ],
   "source": [
    "print(feautes.kwargs)"
   ]
  },
  {
   "cell_type": "code",
   "execution_count": 64,
   "metadata": {
    "collapsed": true
   },
   "outputs": [],
   "source": [
    "feautes2 = interactive(f, fubar = False, y = False)\n",
    "display(feautes2)"
   ]
  },
  {
   "cell_type": "code",
   "execution_count": 66,
   "metadata": {
    "collapsed": false
   },
   "outputs": [
    {
     "name": "stdout",
     "output_type": "stream",
     "text": [
      "{'y': False, 'fubar': False}\n",
      "{'y': False, 'x': False, 'z': False}\n"
     ]
    }
   ],
   "source": [
    "print(feautes2.kwargs)\n",
    "print(feautes.kwargs)"
   ]
  },
  {
   "cell_type": "code",
   "execution_count": 67,
   "metadata": {
    "collapsed": false
   },
   "outputs": [],
   "source": [
    "\n",
    "feautes3 = interactive(f, clf = (\"SVM\", \"RF\"))\n",
    "display(feautes3)"
   ]
  },
  {
   "cell_type": "code",
   "execution_count": 69,
   "metadata": {
    "collapsed": false
   },
   "outputs": [
    {
     "name": "stdout",
     "output_type": "stream",
     "text": [
      "{'clf': u'RF'}\n",
      "{'y': False, 'fubar': False}\n",
      "{'y': False, 'x': False, 'z': False}\n"
     ]
    }
   ],
   "source": [
    "print(feautes3.kwargs)\n",
    "print(feautes2.kwargs)\n",
    "print(feautes.kwargs)\n"
   ]
  }
 ],
 "metadata": {
  "anaconda-cloud": {},
  "kernelspec": {
   "display_name": "Python [default]",
   "language": "python",
   "name": "python2"
  },
  "language_info": {
   "codemirror_mode": {
    "name": "ipython",
    "version": 2
   },
   "file_extension": ".py",
   "mimetype": "text/x-python",
   "name": "python",
   "nbconvert_exporter": "python",
   "pygments_lexer": "ipython2",
   "version": "2.7.12"
  },
  "widgets": {
   "state": {
    "100203f8de8a4a2ebc04d5dd642072a9": {
     "views": [
      {
       "cell_index": 4
      }
     ]
    },
    "3db5955d736748dc9d8f8a37a1c3e15a": {
     "views": [
      {
       "cell_index": 2
      }
     ]
    },
    "9ac16d04c8e24301a14fb5baaedd58ed": {
     "views": [
      {
       "cell_index": 0
      }
     ]
    }
   },
   "version": "1.2.0"
  }
 },
 "nbformat": 4,
 "nbformat_minor": 1
}
