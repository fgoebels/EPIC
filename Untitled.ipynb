{
 "cells": [
  {
   "cell_type": "code",
   "execution_count": 1,
   "metadata": {},
   "outputs": [
    {
     "name": "stdout",
     "output_type": "stream",
     "text": [
      "http://localhost:1234/v1/\n"
     ]
    }
   ],
   "source": [
    "import requests, os\n",
    "os.chdir(\"/home/EPIC/src\")\n",
    "import utils as utils\n",
    "BASE, DATA, HEADERS = utils.prep_network_for_cy(\"\", \"\")\n",
    "print BASE\n",
    "\n",
    "\n",
    "res = requests.delete(BASE + 'session')"
   ]
  }
 ],
 "metadata": {
  "kernelspec": {
   "display_name": "Python 2",
   "language": "python",
   "name": "python2"
  },
  "language_info": {
   "codemirror_mode": {
    "name": "ipython",
    "version": 2
   },
   "file_extension": ".py",
   "mimetype": "text/x-python",
   "name": "python",
   "nbconvert_exporter": "python",
   "pygments_lexer": "ipython2",
   "version": "2.7.13"
  }
 },
 "nbformat": 4,
 "nbformat_minor": 2
}
