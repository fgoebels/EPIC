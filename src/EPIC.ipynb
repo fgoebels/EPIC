{
 "cells": [
  {
   "cell_type": "markdown",
   "metadata": {
    "collapsed": false,
    "hideCode": false,
    "hidePrompt": false
   },
   "source": [
    "# EPIC: Elution Profile-based Inference of Protein Complex Membership"
   ]
  },
  {
   "cell_type": "markdown",
   "metadata": {
    "hideCode": false,
    "hidePrompt": false
   },
   "source": [
    "Welcome to the EPIC predictor Jupyter web service. Please use the Kitematic file organizes to upload the selected elution profiles. The following parameters need to be set in order to run EPIC:\n",
    "\n",
    "#### Feature slection:\n",
    "select which co-elution features to calculate\n",
    "#### Mode:\n",
    "The mode which EPIC schould be run, which are experiment only (exp), functional annotation only (fa), both (comb), or bias reduces (BR). We suggest to use bias reduced when wanting to run EPIC using functional annotation without introducing bias into the pipeline.\n",
    "#### Taxid:\n",
    "Taxid of the species that was used to generate experimental data\n",
    "#### Classifier:\n",
    "Here you can select the classifier used to generate the co-elution profiles. EPIC supports both SVM and random forest. We recommend to use random forest.\n",
    "#### Functional annotation\n",
    "Which source for functional annotation to use. The options are File, Genemania, and STRING.\n",
    "#### Num cores\n",
    "Number of cores that can be used to calculate co-elution scores. Increasing this number reduces run time if the docher and the machine has multiple cores.\n",
    "#### Input directory\n",
    "The directory that contains the elution profiles in tab seperated flat files.\n"
   ]
  },
  {
   "cell_type": "code",
   "execution_count": 1,
   "metadata": {
    "collapsed": false,
    "hideCode": false,
    "hidePrompt": false,
    "init_cell": true
   },
   "outputs": [],
   "source": [
    "import CalculateCoElutionScores as CS\n",
    "#os.chdir(\"/home/EPIC/src\")\n",
    "import utils as utils, shutil, glob\n",
    "from ipywidgets import widgets, interact, interactive\n",
    "from IPython.display import HTML, display, Javascript# Basic CyRest Setup\n",
    "import json, os, sys\n",
    "\n",
    "#Global paramters for input and output directory. These paramteres need to be changed if you want to run EPIC on local machine instead of Dockers\n",
    "root_dir = \"/Users/florian/workspace/scratch/EPIC_out/\" #\"/home/\"\n",
    "input_dir = root_dir + 'input' + os.sep \n",
    "output_dir = root_dir + 'output' + os.sep\n",
    "\n",
    "projects =  [f.split(os.sep)[-2] for f in glob.glob(input_dir+\"*/\")]\n",
    "\n",
    "\n",
    "def f(**kwargs):\n",
    "    return None\n",
    "\n",
    "directoryName_i = widgets.SelectMultiple(\n",
    "    options=projects,\n",
    "    value=[projects[0]],\n",
    "    description='Input',\n",
    "    disabled=False\n",
    ")\n",
    "\n",
    "features_i = interactive(f, MI=False, Bayes=False, Euclidean=False, WCC=False, Jaccard=False, PCCN=False, PCC=False, Apex=False)\n",
    "num_cores_i = interactive(f, num_cores=\"1\")\n",
    "clf_i = interactive(f, classifier=(\"random forest\", \"SVM\"))\n",
    "target_species_i = interactive(f, target_species=\"taxid i.e. 6239 (Worm)\")\n",
    "mode_i = widgets.RadioButtons(\n",
    "    options=['exp', 'fa', 'comb', 'BR'],\n",
    "    description='Mode',\n",
    "    disabled=False\n",
    ")\n",
    "fa_source_i = widgets.RadioButtons(\n",
    "    options=['GM', 'STRING'],\n",
    "    description='FA source',\n",
    "    disabled=False\n",
    ")\n",
    "\n",
    "display(directoryName_i)\n",
    "display(features_i)\n",
    "display(num_cores_i)\n",
    "display(clf_i)\n",
    "display(target_species_i)\n",
    "display(mode_i)\n",
    "display(fa_source_i)"
   ]
  },
  {
   "cell_type": "code",
   "execution_count": 2,
   "metadata": {
    "collapsed": false,
    "hideCode": false,
    "hidePrompt": false
   },
   "outputs": [
    {
     "name": "stdout",
     "output_type": "stream",
     "text": [
      "Output dir already exists and removing content\n",
      "4\n",
      "[False, True, False, True, False, False, True, False]\n",
      "True\n",
      "6239\n",
      "/Users/florian/workspace/scratch/EPIC_out/input/test\n",
      "/Users/florian/workspace/scratch/EPIC_out/output/test/Out.rf\n",
      "comb\n",
      "GM\n"
     ]
    }
   ],
   "source": [
    "featuer_selection = [features_i.kwargs[feature_name] for feature_name in ['PCC', 'Jaccard', 'Apex', 'MI', 'Euclidean',  'WCC', 'Bayes', 'PCCN'] ]\n",
    "num_cores = int(num_cores_i.kwargs['num_cores'])\n",
    "name = directoryName_i.value[0]\n",
    "anno_source = fa_source_i.value\n",
    "mode = mode_i.value\n",
    "input_dir +=  name\n",
    "output_dir += name\n",
    "\n",
    "if os.path.exists(output_dir) == False: \n",
    "    os.mkdir(output_dir)\n",
    "else:\n",
    "    print \"Output dir already exists and removing content\"\n",
    "    shutil.rmtree(output_dir)\n",
    "    os.mkdir(output_dir)\n",
    "    \n",
    "output_dir += os.sep + \"Out\"\n",
    "target_taxid = target_species_i.kwargs['target_species']\n",
    "use_rf = clf_i.kwargs['classifier'] != 'SVM'\n",
    "if use_rf:\n",
    "    output_dir += \".rf\"\n",
    "else:\n",
    "    output_dir += \".svm\"\n",
    "\n",
    "#Stdout for debug\n",
    "print num_cores\n",
    "print(featuer_selection)\n",
    "print use_rf\n",
    "print target_taxid\n",
    "print input_dir\n",
    "print output_dir\n",
    "print mode\n",
    "print anno_source\n"
   ]
  },
  {
   "cell_type": "code",
   "execution_count": 3,
   "metadata": {
    "collapsed": false,
    "hideCode": false,
    "hidePrompt": false
   },
   "outputs": [
    {
     "name": "stdout",
     "output_type": "stream",
     "text": [
      "[<CalculateCoElutionScores.Jaccard instance at 0x1106e15a8>, <CalculateCoElutionScores.MutualInformation instance at 0x1106e14d0>, <CalculateCoElutionScores.Bayes instance at 0x1106e1368>]\n"
     ]
    }
   ],
   "source": [
    "#Create feature combination\n",
    "all_scores = [CS.Pearson(), CS.Jaccard(), CS.Apex(), CS.MutualInformation(2), CS.Euclidiean(), CS.Wcc(), CS.Bayes(3), CS.Poisson(5)]\n",
    "this_scores = []\n",
    "for i, selection in enumerate(featuer_selection):\n",
    "\tif selection: this_scores.append(all_scores[i])\n",
    "\n",
    "# Stdout for debug\n",
    "print this_scores\n"
   ]
  },
  {
   "cell_type": "markdown",
   "metadata": {
    "hideCode": false,
    "hideOutput": false,
    "hidePrompt": false
   },
   "source": [
    "## Initializing the classifier"
   ]
  },
  {
   "cell_type": "code",
   "execution_count": 4,
   "metadata": {
    "collapsed": false,
    "hideCode": false,
    "hidePrompt": false
   },
   "outputs": [
    {
     "name": "stdout",
     "output_type": "stream",
     "text": [
      "using Random forest\n"
     ]
    }
   ],
   "source": [
    "# Initialize CLF\n",
    "clf = CS.CLF_Wrapper(num_cores, use_rf)"
   ]
  },
  {
   "cell_type": "markdown",
   "metadata": {
    "hideCode": false,
    "hidePrompt": false
   },
   "source": [
    "# Loading Elution prfile data\n",
    "EPIC loads in the elution data and removes proteins that are observed in exactly one fraction per experiment. Optimally the percentage of removed proteins should not exceed 50% "
   ]
  },
  {
   "cell_type": "code",
   "execution_count": 5,
   "metadata": {
    "collapsed": false,
    "hideCode": false,
    "hidePrompt": false
   },
   "outputs": [
    {
     "name": "stdout",
     "output_type": "stream",
     "text": [
      "finished processing /Users/florian/workspace/scratch/EPIC_out/input/test/BeadsA_Contrast_1000_fraction_99.txtmodifed.txt\n",
      " removed 591 (0.32) proteins with counts in only one fraction\n"
     ]
    },
    {
     "name": "stderr",
     "output_type": "stream",
     "text": [
      "CalculateCoElutionScores.py:204: RuntimeWarning: invalid value encountered in true_divide\n",
      "  return np.asarray(np.nan_to_num(mat / np.sum(mat, axis)))\n"
     ]
    },
    {
     "name": "stdout",
     "output_type": "stream",
     "text": [
      "finished processing /Users/florian/workspace/scratch/EPIC_out/input/test/BeadsALF_Contrast_1000_fraction_99.txtmodifed.txt\n",
      " removed 563 (0.32) proteins with counts in only one fraction\n",
      "finished processing /Users/florian/workspace/scratch/EPIC_out/input/test/BeadsB_Contrast_1000_fraction_99.txtmodifed.txt\n",
      " removed 571 (0.28) proteins with counts in only one fraction\n",
      "finished processing /Users/florian/workspace/scratch/EPIC_out/input/test/BeadsBNF_Contrast_1000_fraction_99.txtmodifed.txt\n",
      " removed 471 (0.28) proteins with counts in only one fraction\n"
     ]
    }
   ],
   "source": [
    "# load elution data\n",
    "foundprots, elution_datas = utils.load_data(input_dir, this_scores)"
   ]
  },
  {
   "cell_type": "markdown",
   "metadata": {
    "hideCode": false,
    "hidePrompt": false
   },
   "source": [
    "# Generating reference data\n",
    "In this step EPIC automatically generate reference data taken from CORUM, Intact, and GO. We recommend the final number of complexes to be at least 100."
   ]
  },
  {
   "cell_type": "code",
   "execution_count": 6,
   "metadata": {
    "collapsed": false,
    "hideCode": false,
    "hidePrompt": false
   },
   "outputs": [
    {
     "name": "stdout",
     "output_type": "stream",
     "text": [
      "Total number of complexes 2791 in Training\n",
      "Number of complexes after ortholog mapping 1912 complexes in Training\n",
      "After removing not indetified proteins 157 number of complexes in Training\n",
      "After size filtering 157 number of complexes in Training\n",
      "After mergning 119 number of complexes in Training\n"
     ]
    }
   ],
   "source": [
    "# Generate reference data set\n",
    "all_gs = utils.create_goldstandard(target_taxid, foundprots)"
   ]
  },
  {
   "cell_type": "markdown",
   "metadata": {
    "hideCode": false,
    "hidePrompt": false
   },
   "source": [
    "# Calculating co-elution scores\n",
    "This is the most time intensive step of EPIC and on average take 20 min per co-elution score per experiment."
   ]
  },
  {
   "cell_type": "code",
   "execution_count": 7,
   "metadata": {
    "collapsed": false,
    "hideCode": false,
    "hidePrompt": false
   },
   "outputs": [],
   "source": [
    "# Caculating scores\n",
    "scoreCalc = CS.CalculateCoElutionScores(this_scores, elution_datas, output_dir + \".scores.txt\", num_cores=num_cores)\n",
    "#scoreCalc.calculate_coelutionDatas(all_gs)\n",
    "# For debug readin precalculated co-elution scores\n",
    "scoreCalc.readTable(\"/Users/florian/workspace/scratch/EPIC_out/output/Out.rf.scores.txt\", all_gs)"
   ]
  },
  {
   "cell_type": "markdown",
   "metadata": {
    "hideCode": false,
    "hidePrompt": false
   },
   "source": [
    "# Generating reference training split\n",
    "Considere increasing experimental data, or removing train/eval split in case there are not enough referenc eedges to balance the data sets."
   ]
  },
  {
   "cell_type": "code",
   "execution_count": 8,
   "metadata": {
    "collapsed": false,
    "hideCode": false,
    "hidePrompt": false
   },
   "outputs": [
    {
     "name": "stdout",
     "output_type": "stream",
     "text": [
      "Warning: not enough negative data points in reference to create desired ratio pos:528, neg:2128\n"
     ]
    }
   ],
   "source": [
    "train, eval = all_gs.split_into_holdout_training(set(scoreCalc.ppiToIndex.keys()))"
   ]
  },
  {
   "cell_type": "markdown",
   "metadata": {
    "hideCode": false,
    "hidePrompt": false
   },
   "source": [
    "# Classifier evaluation"
   ]
  },
  {
   "cell_type": "code",
   "execution_count": 9,
   "metadata": {
    "collapsed": false,
    "hideCode": false,
    "hidePrompt": false
   },
   "outputs": [
    {
     "name": "stdout",
     "output_type": "stream",
     "text": [
      "Precision\n",
      "0.603448275862\n",
      "Recall\n",
      "0.411764705882\n",
      "F-Measure\n",
      "0.48951048951\n",
      "AUC PR\n",
      "0.556626098715\n",
      "AUC ROC\n",
      "0.678823529412\n"
     ]
    }
   ],
   "source": [
    "# Evaluate classifier\n",
    "utils.bench_clf(scoreCalc, train, eval, clf, output_dir, verbose=True, format=\"png\")"
   ]
  },
  {
   "cell_type": "markdown",
   "metadata": {
    "hideCode": false,
    "hidePrompt": false
   },
   "source": [
    "## Precision and recall values for various classifier confidence cutoffs"
   ]
  },
  {
   "cell_type": "code",
   "execution_count": 10,
   "metadata": {
    "collapsed": false,
    "hideCode": false,
    "hidePrompt": false
   },
   "outputs": [
    {
     "data": {
      "image/png": "[encoded data removed]",
      "text/plain": [
       "<IPython.core.display.Image object>"
      ]
     },
     "execution_count": 10,
     "metadata": {},
     "output_type": "execute_result"
    }
   ],
   "source": [
    "from IPython.display import Image\n",
    "Image(filename=output_dir + \".cutoff.png\")"
   ]
  },
  {
   "cell_type": "markdown",
   "metadata": {
    "hideCode": false,
    "hidePrompt": false
   },
   "source": [
    "## Precision-recall curve"
   ]
  },
  {
   "cell_type": "code",
   "execution_count": 11,
   "metadata": {
    "collapsed": false,
    "hideCode": false,
    "hidePrompt": false
   },
   "outputs": [
    {
     "data": {
      "image/png": "[encoded data removed]",
      "text/plain": [
       "<IPython.core.display.Image object>"
      ]
     },
     "execution_count": 11,
     "metadata": {},
     "output_type": "execute_result"
    }
   ],
   "source": [
    "Image(filename=output_dir + \".pr.png\")"
   ]
  },
  {
   "cell_type": "markdown",
   "metadata": {
    "hideCode": false,
    "hidePrompt": false
   },
   "source": [
    "## ROC curve"
   ]
  },
  {
   "cell_type": "code",
   "execution_count": 12,
   "metadata": {
    "collapsed": false,
    "hideCode": false,
    "hidePrompt": false
   },
   "outputs": [
    {
     "data": {
      "image/png": "[encoded data removed]",
      "text/plain": [
       "<IPython.core.display.Image object>"
      ]
     },
     "execution_count": 12,
     "metadata": {},
     "output_type": "execute_result"
    }
   ],
   "source": [
    "Image(filename=output_dir + \".roc.png\")"
   ]
  },
  {
   "cell_type": "code",
   "execution_count": 13,
   "metadata": {
    "collapsed": false,
    "hideCode": false,
    "hidePrompt": false
   },
   "outputs": [
    {
     "name": "stdout",
     "output_type": "stream",
     "text": [
      "comb\n",
      "GM\n",
      "FA\n",
      "<CalculateCoElutionScores.CalculateCoElutionScores instance at 0x130b7d9e0>\n",
      "to predict: 125030\n"
     ]
    }
   ],
   "source": [
    "# Predicting interaction network\n",
    "print mode\n",
    "\n",
    "functionalData = \"\"\n",
    "if mode != \"exp\":\n",
    "    functionalData = utils.get_FA_data(anno_source)\n",
    "print anno_source\n",
    "print \"FA\"\n",
    "print functionalData\n",
    "\n",
    "# Predict protein interaction\n",
    "network =  utils.make_predictions(scoreCalc, mode, clf, all_gs, functionalData)\n",
    "outFH = open(\"%s.%s.pred.txt\" % (output_dir, mode), \"w\")\n",
    "print >> outFH, \"\\n\".join(network)\n",
    "outFH.close()"
   ]
  },
  {
   "cell_type": "code",
   "execution_count": 14,
   "metadata": {
    "collapsed": false,
    "hideCode": false,
    "hidePrompt": false
   },
   "outputs": [],
   "source": [
    "# Predicting clusters\n",
    "utils.predict_clusters(\"%s.%s.pred.txt\" % (output_dir, mode), \"%s.%s.clust.txt\" % (output_dir, mode))"
   ]
  },
  {
   "cell_type": "markdown",
   "metadata": {
    "hideCode": false,
    "hidePrompt": false
   },
   "source": [
    "# Clustering evaluation"
   ]
  },
  {
   "cell_type": "code",
   "execution_count": 15,
   "metadata": {
    "collapsed": false,
    "hideCode": false,
    "hidePrompt": false,
    "scrolled": true
   },
   "outputs": [
    {
     "name": "stdout",
     "output_type": "stream",
     "text": [
      " mmr\t0.316761860919\n",
      " overlapp\t0.118644\n",
      " simcoe\t0.175141\n",
      " mean_simcoe_overlap\t0.175141\n",
      " sensetivity\t0.186295503212\n",
      " ppv\t0.483754512635\n",
      " accuracy\t0.300202082542\n",
      " sep\t0.201023533461\n"
     ]
    },
    {
     "name": "stderr",
     "output_type": "stream",
     "text": [
      "GoldStandard.py:419: RuntimeWarning: invalid value encountered in true_divide\n",
      "  row_F = np.nan_to_num(row_F/np.sum(row_F, axis=1, keepdims=True))\n",
      "GoldStandard.py:420: RuntimeWarning: invalid value encountered in true_divide\n",
      "  col_F = np.nan_to_num(col_F/np.sum(col_F, axis=0, keepdims=True))\n"
     ]
    },
    {
     "data": {
      "text/plain": [
       "('0.316761860919\\t0.118644\\t0.175141\\t0.175141\\t0.186295503212\\t0.483754512635\\t0.300202082542\\t0.201023533461',\n",
       " ' mmr\\t overlapp\\t simcoe\\t mean_simcoe_overlap\\t sensetivity\\t ppv\\t accuracy\\t sep')"
      ]
     },
     "execution_count": 15,
     "metadata": {},
     "output_type": "execute_result"
    }
   ],
   "source": [
    "import GoldStandard as GS\n",
    "# Evaluating predicted clusters\n",
    "pred_clusters = GS.Clusters(False)\n",
    "pred_clusters.read_file(\"%s.%s.clust.txt\" % (output_dir, mode))\n",
    "#utils.clustering_evaluation(train.complexes, pred_clusters, \"Train\", True)\n",
    "utils.clustering_evaluation(eval.complexes, pred_clusters, \"\", True)"
   ]
  },
  {
   "cell_type": "code",
   "execution_count": null,
   "metadata": {
    "collapsed": false,
    "hideCode": false,
    "hidePrompt": false
   },
   "outputs": [],
   "source": [
    "# Uncomment these lines in order to update the Cytoscape.js extension\n",
    "# ====================================================================\n",
    "import notebook.nbextensions\n",
    "notebook.nbextensions.install_nbextension('https://cdnjs.cloudflare.com/ajax/libs/cytoscape/2.7.14/cytoscape.js', user=True)\n",
    "# ===================================================================="
   ]
  },
  {
   "cell_type": "code",
   "execution_count": null,
   "metadata": {
    "collapsed": false,
    "hideCode": false,
    "hidePrompt": false
   },
   "outputs": [],
   "source": [
    "%%javascript\n",
    "\n",
    "// Use the Cytoscape.js extension and make cytoscape global\n",
    "require(['nbextensions/cytoscape'], function (cytoscape) {\n",
    "    window.cytoscape = cytoscape;\n",
    "});"
   ]
  },
  {
   "cell_type": "code",
   "execution_count": null,
   "metadata": {
    "collapsed": false,
    "hideCode": false,
    "hidePrompt": false
   },
   "outputs": [],
   "source": [
    "all_eData_head, all_eData_scores = utils.elutionDatas_to_treeview(elution_datas, foundprots)\n",
    "clust_json, clust_edges, clust_nodes = utils.clusters_to_json(pred_clusters, network, all_eData_head, all_eData_scores)"
   ]
  },
  {
   "cell_type": "markdown",
   "metadata": {
    "hideCode": false,
    "hidePrompt": false
   },
   "source": [
    "# Clustering network"
   ]
  },
  {
   "cell_type": "code",
   "execution_count": null,
   "metadata": {
    "collapsed": false,
    "hideCode": false,
    "hidePrompt": false
   },
   "outputs": [],
   "source": [
    "#clust_json, clust_edges, clust_nodes = clusters_to_json(pred_clusters, network)\n",
    "clust_cy_js = utils.json_to_cy_js(\"clust_cy\", clust_json)\n",
    "clust_cy_div = widgets.HTML(value=\"\"\"<div id='clust_cy' style=\"width: 100%; height: 500px; background: #f0f0f0;\"></div>\"\"\")\n",
    "clust_js_script = widgets.HTML(value = clust_cy_js)\n",
    "display(clust_cy_div)\n",
    "display(clust_js_script)"
   ]
  },
  {
   "cell_type": "markdown",
   "metadata": {
    "hideCode": false,
    "hidePrompt": false
   },
   "source": [
    "# Sending cluster data to running cytoscape instance"
   ]
  },
  {
   "cell_type": "code",
   "execution_count": null,
   "metadata": {
    "collapsed": false,
    "hideCode": false,
    "hidePrompt": false
   },
   "outputs": [],
   "source": [
    "import requests\n",
    "\n",
    "BASE, DATA, HEADERS = utils.prep_network_for_cy(clust_nodes, clust_edges)\n",
    "res = requests.delete(BASE + 'session')\n",
    "json.dumps(res.json())\n",
    "req = requests.post(BASE + 'networks', data=DATA, headers=HEADERS)\n"
   ]
  }
 ],
 "metadata": {
  "anaconda-cloud": {},
  "celltoolbar": "Edit Metadata",
  "hide_code_all_hidden": false,
  "kernelspec": {
   "display_name": "Python [conda env:py27]",
   "language": "python",
   "name": "conda-env-py27-py"
  },
  "language_info": {
   "codemirror_mode": {
    "name": "ipython",
    "version": 2
   },
   "file_extension": ".py",
   "mimetype": "text/x-python",
   "name": "python",
   "nbconvert_exporter": "python",
   "pygments_lexer": "ipython2",
   "version": "2.7.13"
  },
  "widgets": {
   "state": {
    "0225bfa205d44c4ea856a35016b42766": {
     "views": [
      {
       "cell_index": 2
      }
     ]
    },
    "1cb95343700b4a46b6bb81ee529dd24d": {
     "views": [
      {
       "cell_index": 2
      }
     ]
    },
    "233ca7aad5434fbb9eb21935b3872aa4": {
     "views": [
      {
       "cell_index": 2
      }
     ]
    },
    "31b02a0ce6c345da8c79e1dd40527c69": {
     "views": [
      {
       "cell_index": 2
      }
     ]
    },
    "42fae88b8f334c86b686184f1dd74c42": {
     "views": [
      {
       "cell_index": 2
      }
     ]
    },
    "58469f7d3fdb4eca8b07ea5639ebd95d": {
     "views": [
      {
       "cell_index": 2
      }
     ]
    },
    "586fa73a3b2f438bb2f83c98b6cdc922": {
     "views": [
      {
       "cell_index": 31
      }
     ]
    },
    "5988e3e71e2d46fabcbc1f558455de95": {
     "views": [
      {
       "cell_index": 2
      }
     ]
    },
    "5a94be769aec496d8b4793dc0d597d44": {
     "views": [
      {
       "cell_index": 2
      }
     ]
    },
    "5adeecaa755d495498076bcf61b42f49": {
     "views": [
      {
       "cell_index": 2
      }
     ]
    },
    "62c02a569dfd43f89e7f96cfb21a5f4d": {
     "views": [
      {
       "cell_index": 2
      }
     ]
    },
    "6e9d3afd4a214262b29d5303484ce69b": {
     "views": [
      {
       "cell_index": 2
      }
     ]
    },
    "728c177f5816408f95c08fd6d5577a6b": {
     "views": [
      {
       "cell_index": 2
      }
     ]
    },
    "78187960d7c74239a771f675ad0fbbfa": {
     "views": [
      {
       "cell_index": 2
      }
     ]
    },
    "7aa1da17e2394fbaa75b75ff891695d2": {
     "views": [
      {
       "cell_index": 2
      }
     ]
    },
    "8b1e57a212bd4591af9ff2ed60bbfe56": {
     "views": [
      {
       "cell_index": 2
      }
     ]
    },
    "9a63971be3fa4b598e079966223cb74c": {
     "views": [
      {
       "cell_index": 2
      }
     ]
    },
    "a9bc48868a8e48f9a62d4e45bd50403a": {
     "views": [
      {
       "cell_index": 2
      }
     ]
    },
    "b23c48fb9ae74c31868ad2c7d0f8f6c8": {
     "views": [
      {
       "cell_index": 2
      }
     ]
    },
    "b7889957201c41e6861f8c5b6caa965c": {
     "views": [
      {
       "cell_index": 2
      }
     ]
    },
    "b8503d9b9fb5463392027ee94390341e": {
     "views": [
      {
       "cell_index": 2
      }
     ]
    },
    "cd3833bdb15e47be9278db7c63f62019": {
     "views": [
      {
       "cell_index": 2
      }
     ]
    },
    "cd744616e2ec49c3be751a9f5e66c0ab": {
     "views": [
      {
       "cell_index": 2
      }
     ]
    },
    "d0c25943b86c46af864c5a89e682e0b6": {
     "views": [
      {
       "cell_index": 2
      }
     ]
    },
    "d3400063a8134d70838ab56877dfa897": {
     "views": [
      {
       "cell_index": 2
      }
     ]
    },
    "d3d1e9041b1545829546a109662fbc5d": {
     "views": [
      {
       "cell_index": 2
      }
     ]
    },
    "dca61a4d8f9049e797f5f3b1d81d5652": {
     "views": [
      {
       "cell_index": 2
      }
     ]
    },
    "e2013b5f2233435ab1a6548353124fc9": {
     "views": [
      {
       "cell_index": 2
      }
     ]
    },
    "e289f27f2fda4f3ea72b80d8f3961e71": {
     "views": [
      {
       "cell_index": 2
      }
     ]
    },
    "e5c5b69fb3364f1d8adb8295286ef4c5": {
     "views": [
      {
       "cell_index": 2
      }
     ]
    },
    "eedb8753fe314f60b747d07e7ae5b906": {
     "views": [
      {
       "cell_index": 2
      }
     ]
    },
    "ff4c69d836e646d6aced605a93475430": {
     "views": [
      {
       "cell_index": 2
      }
     ]
    }
   },
   "version": "1.2.0"
  }
 },
 "nbformat": 4,
 "nbformat_minor": 0
}
