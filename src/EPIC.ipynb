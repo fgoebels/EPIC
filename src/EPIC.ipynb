{
 "cells": [
  {
   "cell_type": "markdown",
   "metadata": {
    "collapsed": false,
    "hideCode": false,
    "hidePrompt": false
   },
   "source": [
    "# EPIC: Elution Profile-based Inference of Protein Complex Membership"
   ]
  },
  {
   "cell_type": "markdown",
   "metadata": {
    "hideCode": false,
    "hidePrompt": false
   },
   "source": [
    "Welcome to the EPIC predictor Jupyter web service. Please use the Kitematic file organizes to upload the selected elution profiles. The following parameters need to be set in order to run EPIC:\n",
    "\n",
    "#### Feature slection:\n",
    "select which co-elution features to calculate\n",
    "#### Mode:\n",
    "The mode which EPIC schould be run, which are experiment only (EXP), functional annotation only (FA), both (Mergeed), or bias reduces (BR). We suggest to use bias reduced when wanting to run EPIC using functional annotation without introducing bias into the pipeline.\n",
    "#### Taxid:\n",
    "Taxid of the species that was used to generate experimental data\n",
    "#### Classifier:\n",
    "Here you can select the classifier used to generate the co-elution profiles. EPIC supports both SVM and random forest. We recommend to use random forest.\n",
    "#### Functional annotation\n",
    "Which source for functional annotation to use. The options are File, Genemania, and STRING.\n",
    "#### Num cores\n",
    "Number of cores that can be used to calculate co-elution scores. Increasing this number reduces run time if the docher and the machine has multiple cores.\n",
    "#### Input directory\n",
    "The directory that contains the elution profiles in tab seperated flat files.\n"
   ]
  },
  {
   "cell_type": "code",
   "execution_count": 61,
   "metadata": {
    "collapsed": false,
    "hideCode": false,
    "hidePrompt": false,
    "init_cell": true
   },
   "outputs": [],
   "source": [
    "import CalculateCoElutionScores as CS\n",
    "#os.chdir(\"/home/EPIC/src\")\n",
    "import utils as utils\n",
    "from ipywidgets import widgets, interact, interactive\n",
    "from IPython.display import HTML, display, Javascript# Basic CyRest Setup\n",
    "import json, os, sys\n",
    "\n",
    "def f(**kwargs):\n",
    "    return None\n",
    "\n",
    "features_i = interactive(f, MI=False, Bayes=False, Euclidean=False, WCC=False, Jaccard=False, PCCN=False, PCC=False, Apex=False)\n",
    "directoryName_i = interactive(f, directory=\"input directory\")\n",
    "num_cores_i = interactive(f, num_cores=\"1\")\n",
    "clf_i = interactive(f, classifier=(\"random forest\", \"SVM\"))\n",
    "target_species_i = interactive(f, target_species=\"taxid i.e. 6239 (Worm)\")\n",
    "display(features_i)\n",
    "display(directoryName_i)\n",
    "display(num_cores_i)\n",
    "display(clf_i)\n",
    "display(target_species_i)\n",
    "\n",
    "def run_all(ev):\n",
    "    display(Javascript('IPython.notebook.execute_cells_below()'))\n",
    "\n",
    "button = widgets.Button(description=\"Run EPIC\")\n",
    "button.on_click(run_all)\n",
    "display(button)"
   ]
  },
  {
   "cell_type": "code",
   "execution_count": 38,
   "metadata": {
    "collapsed": false,
    "hideCode": false,
    "hidePrompt": false
   },
   "outputs": [
    {
     "name": "stdout",
     "output_type": "stream",
     "text": [
      "Output dir already exists\n",
      "4\n",
      "[False, True, True, True, False, False, False, False]\n",
      "True\n",
      "6239\n",
      "/Users/florian/workspace/scratch/EPIC_out/input/Test\n",
      "/Users/florian/workspace/scratch/EPIC_out/output/Test/Out.rf\n"
     ]
    }
   ],
   "source": [
    "featuer_selection = [features_i.kwargs[feature_name] for feature_name in ['PCC', 'Jaccard', 'Apex', 'MI', 'Euclidean',  'WCC', 'Bayes', 'PCCN'] ]\n",
    "num_cores = int(num_cores_i.kwargs['num_cores'])\n",
    "root_dir = \"/Users/florian/workspace/scratch/EPIC_out/\" #\"/home/\"\n",
    "name = directoryName_i.kwargs['directory']\n",
    "input_dir = root_dir + 'input' + os.sep + name\n",
    "output_dir = root_dir + 'output' + os.sep + name\n",
    "if os.path.exists(output_dir) == False: \n",
    "    os.mkdir(output_dir)\n",
    "else:\n",
    "    print \"Output dir already exists\"\n",
    "#    sys.exit()\n",
    "output_dir += os.sep + \"Out\"\n",
    "target_taxid = target_species_i.kwargs['target_species']\n",
    "use_rf = clf_i.kwargs['classifier'] != 'SVM'\n",
    "if use_rf:\n",
    "    output_dir += \".rf\"\n",
    "else:\n",
    "    output_dir += \".svm\"\n",
    "mode= \"exp\"\n",
    "\n",
    "#Stdout for debug\n",
    "print num_cores\n",
    "print(featuer_selection)\n",
    "print use_rf\n",
    "print target_taxid\n",
    "print input_dir\n",
    "print output_dir\n"
   ]
  },
  {
   "cell_type": "code",
   "execution_count": 39,
   "metadata": {
    "collapsed": false,
    "hideCode": false,
    "hidePrompt": false
   },
   "outputs": [
    {
     "name": "stdout",
     "output_type": "stream",
     "text": [
      "[<CalculateCoElutionScores.Jaccard instance at 0x11a848830>, <CalculateCoElutionScores.Apex object at 0x11b3edb90>, <CalculateCoElutionScores.MutualInformation instance at 0x11a848710>]\n"
     ]
    }
   ],
   "source": [
    "#Create feature combination\n",
    "all_scores = [CS.Pearson(), CS.Jaccard(), CS.Apex(), CS.MutualInformation(2), CS.Euclidiean(), CS.Wcc(), CS.Bayes(3), CS.Poisson(5)]\n",
    "this_scores = []\n",
    "for i, selection in enumerate(featuer_selection):\n",
    "\tif selection: this_scores.append(all_scores[i])\n",
    "\n",
    "# Stdout for debug\n",
    "print this_scores\n"
   ]
  },
  {
   "cell_type": "markdown",
   "metadata": {
    "hideCode": false,
    "hideOutput": false,
    "hidePrompt": false
   },
   "source": [
    "## Initializing the classifier"
   ]
  },
  {
   "cell_type": "code",
   "execution_count": 40,
   "metadata": {
    "collapsed": false,
    "hideCode": false,
    "hidePrompt": false
   },
   "outputs": [
    {
     "name": "stdout",
     "output_type": "stream",
     "text": [
      "using Random forest\n"
     ]
    }
   ],
   "source": [
    "# Initialize CLF\n",
    "clf = CS.CLF_Wrapper(num_cores, use_rf)"
   ]
  },
  {
   "cell_type": "markdown",
   "metadata": {
    "hideCode": false,
    "hidePrompt": false
   },
   "source": [
    "# Loading Elution prfile data\n",
    "EPIC loads in the elution data and removes proteins that are observed in exactly one fraction per experiment. Optimally the percentage of removed proteins should not exceed 50% "
   ]
  },
  {
   "cell_type": "code",
   "execution_count": 41,
   "metadata": {
    "collapsed": false,
    "hideCode": false,
    "hidePrompt": false
   },
   "outputs": [
    {
     "name": "stdout",
     "output_type": "stream",
     "text": [
      "finished processing /Users/florian/workspace/scratch/EPIC_out/input/Test/BeadsA_Contrast_1000_fraction_99.txtmodifed.txt\n",
      " removed 591 (0.32) proteins with counts in only one fraction\n",
      "finished processing /Users/florian/workspace/scratch/EPIC_out/input/Test/BeadsALF_Contrast_1000_fraction_99.txtmodifed.txt\n",
      " removed 563 (0.32) proteins with counts in only one fraction\n",
      "finished processing /Users/florian/workspace/scratch/EPIC_out/input/Test/BeadsB_Contrast_1000_fraction_99.txtmodifed.txt\n",
      " removed 571 (0.28) proteins with counts in only one fraction\n",
      "finished processing /Users/florian/workspace/scratch/EPIC_out/input/Test/BeadsBNF_Contrast_1000_fraction_99.txtmodifed.txt\n",
      " removed 471 (0.28) proteins with counts in only one fraction\n"
     ]
    }
   ],
   "source": [
    "# load elution data\n",
    "foundprots, elution_datas = utils.load_data(input_dir, this_scores)"
   ]
  },
  {
   "cell_type": "markdown",
   "metadata": {
    "hideCode": false,
    "hidePrompt": false
   },
   "source": [
    "# Generating reference data\n",
    "In this step EPIC automatically generate reference data taken from CORUM, Intact, and GO. We recommend the final number of complexes to be at least 100."
   ]
  },
  {
   "cell_type": "code",
   "execution_count": 44,
   "metadata": {
    "collapsed": false,
    "hideCode": false,
    "hidePrompt": false
   },
   "outputs": [
    {
     "name": "stdout",
     "output_type": "stream",
     "text": [
      "Total number of complexes 2792 in Training\n",
      "Number of complexes after ortholog mapping 1779 complexes in Training\n",
      "After size filtering 744 number of complexes in Training\n",
      "After mergning 550 number of complexes in Training\n",
      "After removing not indetified proteins 131 number of complexes in Training\n"
     ]
    }
   ],
   "source": [
    "# Generate reference data set\n",
    "all_gs = utils.create_goldstandard(target_taxid, foundprots)"
   ]
  },
  {
   "cell_type": "markdown",
   "metadata": {
    "hideCode": false,
    "hidePrompt": false
   },
   "source": [
    "# Calculating co-elution scores\n",
    "This is the most time intensive step of EPIC and on average take 20 min per co-elution score per experiment."
   ]
  },
  {
   "cell_type": "code",
   "execution_count": 45,
   "metadata": {
    "collapsed": false,
    "hideCode": false,
    "hidePrompt": false
   },
   "outputs": [
    {
     "name": "stdout",
     "output_type": "stream",
     "text": [
      "Warning: not enough negative data points in reference to create desired ratio pos:299, neg:1340\n",
      "Warning: not enough negative data points in reference to create desired ratio pos:299, neg:1341\n"
     ]
    }
   ],
   "source": [
    "# Caculating scores\n",
    "scoreCalc = CS.CalculateCoElutionScores(this_scores, elution_datas, output_dir + \".scores.txt\", num_cores=num_cores)\n",
    "#scoreCalc.calculate_coelutionDatas(gs.get_edges())\n",
    "scoreCalc.readTable(\"/Users/florian/workspace/scratch/EPIC_out/output/test/Test.scores.txt\", all_gs)\n",
    "train, eval = all_gs.split_into_holdout_training(set(scoreCalc.ppiToIndex.keys()))"
   ]
  },
  {
   "cell_type": "markdown",
   "metadata": {
    "hideCode": false,
    "hidePrompt": false
   },
   "source": [
    "# Generating reference training split\n",
    "Considere increasing experimental data, or removing train/eval split in case there are not enough referenc eedges to balance the data sets."
   ]
  },
  {
   "cell_type": "code",
   "execution_count": 46,
   "metadata": {
    "collapsed": false,
    "hideCode": false,
    "hidePrompt": false
   },
   "outputs": [
    {
     "name": "stdout",
     "output_type": "stream",
     "text": [
      "Warning: not enough negative data points in reference to create desired ratio pos:403, neg:1341\n"
     ]
    }
   ],
   "source": [
    "train, eval = all_gs.split_into_holdout_training(set(scoreCalc.ppiToIndex.keys()))"
   ]
  },
  {
   "cell_type": "markdown",
   "metadata": {
    "hideCode": false,
    "hidePrompt": false
   },
   "source": [
    "# Classifier evaluation"
   ]
  },
  {
   "cell_type": "code",
   "execution_count": 47,
   "metadata": {
    "collapsed": false,
    "hideCode": false,
    "hidePrompt": false
   },
   "outputs": [
    {
     "name": "stdout",
     "output_type": "stream",
     "text": [
      "Precision\n",
      "0.795620437956\n",
      "Recall\n",
      "0.27047146402\n",
      "F-Measure\n",
      "0.403703703704\n",
      "AUC PR\n",
      "0.617334941814\n",
      "AUC ROC\n",
      "0.624795761838\n"
     ]
    }
   ],
   "source": [
    "# Evaluate classifier\n",
    "utils.bench_clf(scoreCalc, train, eval, clf, output_dir, verbose=True, format=\"png\")"
   ]
  },
  {
   "cell_type": "markdown",
   "metadata": {
    "hideCode": false,
    "hidePrompt": false
   },
   "source": [
    "## Precision and recall values for various classifier confidence cutoffs"
   ]
  },
  {
   "cell_type": "code",
   "execution_count": 48,
   "metadata": {
    "collapsed": false,
    "hideCode": false,
    "hidePrompt": false
   },
   "outputs": [
    {
     "data": {
      "image/png": "[encoded data removed]",
      "text/plain": [
       "<IPython.core.display.Image object>"
      ]
     },
     "execution_count": 48,
     "metadata": {},
     "output_type": "execute_result"
    }
   ],
   "source": [
    "from IPython.display import Image\n",
    "Image(filename=output_dir + \".cutoff.png\")"
   ]
  },
  {
   "cell_type": "markdown",
   "metadata": {
    "hideCode": false,
    "hidePrompt": false
   },
   "source": [
    "## Precision-recall curve"
   ]
  },
  {
   "cell_type": "code",
   "execution_count": 50,
   "metadata": {
    "collapsed": false,
    "hideCode": false,
    "hidePrompt": false
   },
   "outputs": [
    {
     "data": {
      "image/png": "[encoded data removed]",
      "text/plain": [
       "<IPython.core.display.Image object>"
      ]
     },
     "execution_count": 50,
     "metadata": {},
     "output_type": "execute_result"
    }
   ],
   "source": [
    "Image(filename=output_dir + \".pr.png\")"
   ]
  },
  {
   "cell_type": "markdown",
   "metadata": {
    "hideCode": false,
    "hidePrompt": false
   },
   "source": [
    "## ROC curve"
   ]
  },
  {
   "cell_type": "code",
   "execution_count": 51,
   "metadata": {
    "collapsed": false,
    "hideCode": false,
    "hidePrompt": false
   },
   "outputs": [
    {
     "data": {
      "image/png": "[encoded data removed]",
      "text/plain": [
       "<IPython.core.display.Image object>"
      ]
     },
     "execution_count": 51,
     "metadata": {},
     "output_type": "execute_result"
    }
   ],
   "source": [
    "Image(filename=output_dir + \".roc.png\")"
   ]
  },
  {
   "cell_type": "code",
   "execution_count": 52,
   "metadata": {
    "collapsed": false,
    "hideCode": false,
    "hidePrompt": false
   },
   "outputs": [
    {
     "name": "stdout",
     "output_type": "stream",
     "text": [
      "(1506, 12)\n",
      "to predict: 107180\n"
     ]
    }
   ],
   "source": [
    "# Predicting interaction network\n",
    "\n",
    "\n",
    "genemania = \"\"\n",
    "if mode != \"exp\":\n",
    "\tgenemania = CS.Genemania(\"6239\")\n",
    "\tgenemania = genemania.getScoreCalc()\n",
    "\n",
    "# Predict protein interaction\n",
    "network =  utils.make_predictions(scoreCalc, mode, clf, train, genemania)\n",
    "outFH = open(\"%s.%s.pred.txt\" % (output_dir, mode), \"w\")\n",
    "print >> outFH, \"\\n\".join(network)\n",
    "outFH.close()"
   ]
  },
  {
   "cell_type": "code",
   "execution_count": 53,
   "metadata": {
    "collapsed": false,
    "hideCode": false,
    "hidePrompt": false
   },
   "outputs": [],
   "source": [
    "# Predicting clusters\n",
    "utils.predict_clusters(\"%s.%s.pred.txt\" % (output_dir, mode), \"%s.%s.clust.txt\" % (output_dir, mode))"
   ]
  },
  {
   "cell_type": "markdown",
   "metadata": {
    "hideCode": false,
    "hidePrompt": false
   },
   "source": [
    "# Clustering evaluation"
   ]
  },
  {
   "cell_type": "code",
   "execution_count": 54,
   "metadata": {
    "collapsed": false,
    "hideCode": false,
    "hidePrompt": false,
    "scrolled": true
   },
   "outputs": [
    {
     "name": "stdout",
     "output_type": "stream",
     "text": [
      " mmr\t0.198354891404\n",
      " overlapp\t0.022099\n",
      " simcoe\t0.038674\n",
      " mean_simcoe_overlap\t0.033149\n",
      " sensetivity\t0.058865248227\n",
      " ppv\t0.417910447761\n",
      " accuracy\t0.156845153716\n",
      " sep\t0.166674519309\n"
     ]
    },
    {
     "name": "stderr",
     "output_type": "stream",
     "text": [
      "GoldStandard.py:416: RuntimeWarning: invalid value encountered in true_divide\n",
      "  row_F = np.nan_to_num(row_F/np.sum(row_F, axis=1, keepdims=True))\n"
     ]
    },
    {
     "data": {
      "text/plain": [
       "('0.198354891404\\t0.022099\\t0.038674\\t0.033149\\t0.058865248227\\t0.417910447761\\t0.156845153716\\t0.166674519309',\n",
       " ' mmr\\t overlapp\\t simcoe\\t mean_simcoe_overlap\\t sensetivity\\t ppv\\t accuracy\\t sep')"
      ]
     },
     "execution_count": 54,
     "metadata": {},
     "output_type": "execute_result"
    }
   ],
   "source": [
    "import GoldStandard as GS\n",
    "# Evaluating predicted clusters\n",
    "pred_clusters = GS.Clusters(False)\n",
    "pred_clusters.read_file(\"%s.%s.clust.txt\" % (output_dir, mode))\n",
    "#utils.clustering_evaluation(train.complexes, pred_clusters, \"Train\", True)\n",
    "utils.clustering_evaluation(eval.complexes, pred_clusters, \"\", True)"
   ]
  },
  {
   "cell_type": "code",
   "execution_count": 55,
   "metadata": {
    "collapsed": false,
    "hideCode": false,
    "hidePrompt": false
   },
   "outputs": [
    {
     "data": {
      "text/plain": [
       "u'/Users/florian/Library/Jupyter/nbextensions/cytoscape.js'"
      ]
     },
     "execution_count": 55,
     "metadata": {},
     "output_type": "execute_result"
    }
   ],
   "source": [
    "# Uncomment these lines in order to update the Cytoscape.js extension\n",
    "# ====================================================================\n",
    "import notebook.nbextensions\n",
    "notebook.nbextensions.install_nbextension('https://cdnjs.cloudflare.com/ajax/libs/cytoscape/2.7.14/cytoscape.js', user=True)\n",
    "# ===================================================================="
   ]
  },
  {
   "cell_type": "code",
   "execution_count": 56,
   "metadata": {
    "collapsed": false,
    "hideCode": false,
    "hidePrompt": false
   },
   "outputs": [
    {
     "data": {
      "application/javascript": [
       "\n",
       "// Use the Cytoscape.js extension and make cytoscape global\n",
       "require(['nbextensions/cytoscape'], function (cytoscape) {\n",
       "    window.cytoscape = cytoscape;\n",
       "});"
      ],
      "text/plain": [
       "<IPython.core.display.Javascript object>"
      ]
     },
     "metadata": {},
     "output_type": "display_data"
    }
   ],
   "source": [
    "%%javascript\n",
    "\n",
    "// Use the Cytoscape.js extension and make cytoscape global\n",
    "require(['nbextensions/cytoscape'], function (cytoscape) {\n",
    "    window.cytoscape = cytoscape;\n",
    "});"
   ]
  },
  {
   "cell_type": "code",
   "execution_count": 57,
   "metadata": {
    "collapsed": false,
    "hideCode": false,
    "hidePrompt": false
   },
   "outputs": [],
   "source": [
    "all_eData_head, all_eData_scores = utils.elutionDatas_to_treeview(elution_datas, foundprots)\n",
    "clust_json, clust_edges, clust_nodes = utils.clusters_to_json(pred_clusters, network, all_eData_head, all_eData_scores)"
   ]
  },
  {
   "cell_type": "markdown",
   "metadata": {
    "hideCode": false,
    "hidePrompt": false
   },
   "source": [
    "# Clustering network"
   ]
  },
  {
   "cell_type": "code",
   "execution_count": 58,
   "metadata": {
    "collapsed": false,
    "hideCode": false,
    "hidePrompt": false
   },
   "outputs": [],
   "source": [
    "#clust_json, clust_edges, clust_nodes = clusters_to_json(pred_clusters, network)\n",
    "clust_cy_js = utils.json_to_cy_js(\"clust_cy\", clust_json)\n",
    "clust_cy_div = widgets.HTML(value=\"\"\"<div id='clust_cy' style=\"width: 100%; height: 500px; background: #f0f0f0;\"></div>\"\"\")\n",
    "clust_js_script = widgets.HTML(value = clust_cy_js)\n",
    "display(clust_cy_div)\n",
    "display(clust_js_script)"
   ]
  },
  {
   "cell_type": "markdown",
   "metadata": {
    "hideCode": false,
    "hidePrompt": false
   },
   "source": [
    "# Sending cluster data to running cytoscape instance"
   ]
  },
  {
   "cell_type": "code",
   "execution_count": 59,
   "metadata": {
    "collapsed": false,
    "hideCode": false,
    "hidePrompt": false
   },
   "outputs": [],
   "source": [
    "import requests\n",
    "\n",
    "BASE, DATA, HEADERS = utils.prep_network_for_cy(clust_nodes, clust_edges)\n",
    "res = requests.delete(BASE + 'session')\n",
    "json.dumps(res.json())\n",
    "req = requests.post(BASE + 'networks', data=DATA, headers=HEADERS)\n"
   ]
  }
 ],
 "metadata": {
  "anaconda-cloud": {},
  "celltoolbar": "Edit Metadata",
  "hide_code_all_hidden": false,
  "kernelspec": {
   "display_name": "Python [conda env:py27]",
   "language": "python",
   "name": "conda-env-py27-py"
  },
  "language_info": {
   "codemirror_mode": {
    "name": "ipython",
    "version": 2
   },
   "file_extension": ".py",
   "mimetype": "text/x-python",
   "name": "python",
   "nbconvert_exporter": "python",
   "pygments_lexer": "ipython2",
   "version": "2.7.13"
  },
  "widgets": {
   "state": {
    "013a533c04f6409da3fafa229ba15dc9": {
     "views": [
      {
       "cell_index": 2
      }
     ]
    },
    "1192a6e304b3477c8dcb4df2f27e4a42": {
     "views": [
      {
       "cell_index": 2
      }
     ]
    },
    "15dfdc8702a44b38868f49f0fd88cdfb": {
     "views": [
      {
       "cell_index": 2
      }
     ]
    },
    "16efe266e75748a493cdcaf22a325b7f": {
     "views": [
      {
       "cell_index": 2
      }
     ]
    },
    "1848c282640c4c7ca362b793c8588e91": {
     "views": [
      {
       "cell_index": 2
      }
     ]
    },
    "19217384b16a4477a866cc217e43d3f9": {
     "views": [
      {
       "cell_index": 2
      }
     ]
    },
    "1cf5c27f63fb4b1ea417443feb73e676": {
     "views": [
      {
       "cell_index": 2
      }
     ]
    },
    "22e6c926f5c74b06964bf9e9f15a51fa": {
     "views": [
      {
       "cell_index": 2
      }
     ]
    },
    "40cde6906a154e62b1b3b701a059b1a5": {
     "views": [
      {
       "cell_index": 2
      }
     ]
    },
    "44bf0a1f1deb40ef8d47ac4ebd71bc51": {
     "views": [
      {
       "cell_index": 31
      }
     ]
    },
    "498ae4f6b85642718cf91906778453fb": {
     "views": [
      {
       "cell_index": 2
      }
     ]
    },
    "4cf58bc483334115a6e44daeb3b7a897": {
     "views": [
      {
       "cell_index": 2
      }
     ]
    },
    "5266d4cddc834736ba6902a1a341fa4e": {
     "views": [
      {
       "cell_index": 2
      }
     ]
    },
    "529aa5cde41f488dba367b6ce9bc803e": {
     "views": [
      {
       "cell_index": 2
      }
     ]
    },
    "5b073a3ae98d4dfd9725c60b66956a07": {
     "views": [
      {
       "cell_index": 2
      }
     ]
    },
    "5e6a5caa6e5143c6b566fcc221ed47aa": {
     "views": [
      {
       "cell_index": 2
      }
     ]
    },
    "5ee207fde6aa43f6bbd445bb8fad34d1": {
     "views": [
      {
       "cell_index": 2
      }
     ]
    },
    "6117c2dd61154e37bbdb0abb0171d54c": {
     "views": [
      {
       "cell_index": 31
      }
     ]
    },
    "62363b385c1f4754a6642f3c3bfe564e": {
     "views": [
      {
       "cell_index": 2
      }
     ]
    },
    "652a72e07f6346b7be2a2a8672bbd229": {
     "views": [
      {
       "cell_index": 2
      }
     ]
    },
    "70e0ce6840d747a69b769fab91726466": {
     "views": [
      {
       "cell_index": 2
      }
     ]
    },
    "7c9a3c292e504acaba03a54589c4e691": {
     "views": [
      {
       "cell_index": 2
      }
     ]
    },
    "8cc7ac90f21f47a9b7d93601759d30ad": {
     "views": [
      {
       "cell_index": 2
      }
     ]
    },
    "92eee2cbdae1477e8a5aa8f21b2550ff": {
     "views": [
      {
       "cell_index": 2
      }
     ]
    },
    "a96b32e7754344b2a20256ee89fe4b74": {
     "views": [
      {
       "cell_index": 2
      }
     ]
    },
    "ae9c14d78f024ddf952bd8e0eaaca4e2": {
     "views": [
      {
       "cell_index": 2
      }
     ]
    },
    "affb45f44068439dab70bbb62f47163f": {
     "views": [
      {
       "cell_index": 2
      }
     ]
    },
    "b4cb77ee18a24371a93eadb48fcf0026": {
     "views": [
      {
       "cell_index": 2
      }
     ]
    },
    "bca1f606790f4ef0825dcdeafc07e4dc": {
     "views": [
      {
       "cell_index": 2
      }
     ]
    },
    "be77e5117ae94032be96c3b7f2d8ff4c": {
     "views": [
      {
       "cell_index": 2
      }
     ]
    },
    "c148030af61a4bdd92683a39bb0dc369": {
     "views": [
      {
       "cell_index": 2
      }
     ]
    },
    "c8018cf926854fc49cebc5fece0cc8de": {
     "views": [
      {
       "cell_index": 2
      }
     ]
    },
    "cc3c43663b9443dca8f26a3f649bb4b7": {
     "views": [
      {
       "cell_index": 2
      }
     ]
    },
    "d360a6d30aeb467b87d1727427b15b2a": {
     "views": [
      {
       "cell_index": 2
      }
     ]
    },
    "d7dbcc056fc640b5b23842da9847a452": {
     "views": [
      {
       "cell_index": 2
      }
     ]
    },
    "dcd87c4e5e3946668fbe2e3c832c1c6c": {
     "views": [
      {
       "cell_index": 2
      }
     ]
    },
    "e09be6cdaf524c1ca49825a19da42fc3": {
     "views": [
      {
       "cell_index": 2
      }
     ]
    },
    "e936d1c916ea42fba1784b42d08c531b": {
     "views": [
      {
       "cell_index": 2
      }
     ]
    },
    "ea91b7d39a0645039dd0d341fbbe6d52": {
     "views": [
      {
       "cell_index": 2
      }
     ]
    },
    "f0b826600e9647caae3db5f0bee81d27": {
     "views": [
      {
       "cell_index": 2
      }
     ]
    },
    "f4d27a16718e40a7a3f92dbfcf098f55": {
     "views": [
      {
       "cell_index": 2
      }
     ]
    },
    "fb75e6548d7f4b7a820d01f2009adfec": {
     "views": [
      {
       "cell_index": 2
      }
     ]
    }
   },
   "version": "1.2.0"
  }
 },
 "nbformat": 4,
 "nbformat_minor": 0
}
