{
 "cells": [
  {
   "cell_type": "code",
   "execution_count": null,
   "metadata": {
    "collapsed": false
   },
   "outputs": [],
   "source": [
    "import os, sys\n",
    "os.chdir(\"/home/EPIC/src\")\n",
    "import CalculateCoElutionScores as CS\n",
    "\n",
    "from ipywidgets import widgets, interact, interactive\n",
    "from IPython.display import display\n",
    "val = 0\n",
    "def f(**kwargs):\n",
    "    return None\n",
    "\n",
    "features_i = interactive(f, MI = False, Bayes=False, Euclidean=False, WCC=False, Jaccard=False, PCCN=False, PCC=False, Apex=False)\n",
    "directoryName_i = interactive(f, directory=\"input directory\")\n",
    "num_cores_i  = interactive(f, num_cores=\"1\")\n",
    "clf_i = interactive(f, classifier = (\"random forest\", \"SVM\"))\n",
    "target_species_i = interactive(f, target_species= \"taxid i.e. 6239 (Worm)\")\n",
    "display(features_i)\n",
    "display(directoryName_i)\n",
    "display(num_cores_i)\n",
    "display(clf_i)\n",
    "display(target_species_i)"
   ]
  },
  {
   "cell_type": "code",
   "execution_count": null,
   "metadata": {
    "collapsed": false
   },
   "outputs": [],
   "source": [
    "featuer_selection = [features_i.kwargs[feature_name] for feature_name in ['PCC', 'Jaccard', 'Apex', 'MI', 'Euclidean',  'WCC', 'Bayes', 'PCCN'] ]\n",
    "num_cores = int(num_cores_i.kwargs['num_cores'])\n",
    "root_dir = \"/home/\"\n",
    "name = directoryName_i.kwargs['directory']\n",
    "input_dir = root_dir + 'input' + os.sep + name \n",
    "output_dir = root_dir + 'output' + os.sep + name \n",
    "if os.path.exists(output_dir) == False: \n",
    "    os.mkdir(output_dir)\n",
    "else:\n",
    "    print \"Output dir already exists\"\n",
    "    sys.exit()\n",
    "output_dir += os.sep + \"out\"\n",
    "target_taxid = target_species_i.kwargs['target_species']\n",
    "use_rf = clf_i.kwargs['classifier'] != 'SVM'\n",
    "if use_rf:\n",
    "    output_dir += \".rf\"\n",
    "else:\n",
    "    output_dir += \".svm\"\n",
    "print num_cores\n",
    "print(featuer_selection)\n",
    "print use_rf\n",
    "print target_taxid\n",
    "print input_dir\n",
    "print output_dir"
   ]
  },
  {
   "cell_type": "code",
   "execution_count": null,
   "metadata": {
    "collapsed": false
   },
   "outputs": [],
   "source": [
    "all_scores = [CS.Pearson(), CS.Jaccard(), CS.Apex(), CS.MutualInformation(2), CS.Euclidiean(), CS.Wcc(), CS.Bayes(3), CS.Poisson(5)]\n",
    "this_scores = []\n",
    "for i, selection in enumerate(featuer_selection):\n",
    "\tif selection: this_scores.append(all_scores[i])\n",
    "print this_scores\n",
    "foundprots, elution_datas = CS.load_data(input_dir, this_scores)"
   ]
  },
  {
   "cell_type": "code",
   "execution_count": null,
   "metadata": {
    "collapsed": false
   },
   "outputs": [],
   "source": [
    "print len(foundprots)"
   ]
  },
  {
   "cell_type": "code",
   "execution_count": null,
   "metadata": {
    "collapsed": false
   },
   "outputs": [],
   "source": [
    "evals = CS.create_goldstandard(target_taxid, foundprots)\n",
    "training_p, training_n, all_p, all_n, go_complexes, corum_complexes = evals"
   ]
  },
  {
   "cell_type": "code",
   "execution_count": null,
   "metadata": {
    "collapsed": false
   },
   "outputs": [],
   "source": [
    "scoreCalc = CS.CalculateCoElutionScores()\n",
    "scoreCalc.addLabels(all_p, all_n)\n",
    "scoreCalc.calculate_coelutionDatas(elution_datas, this_scores, output_dir, num_cores)"
   ]
  },
  {
   "cell_type": "code",
   "execution_count": null,
   "metadata": {
    "collapsed": false
   },
   "outputs": [],
   "source": [
    "scoreCalc.addLabels(training_p, training_n)\n",
    "CS.bench_scores(scoreCalc, output_dir, num_cores, useForest=use_rf)"
   ]
  },
  {
   "cell_type": "code",
   "execution_count": null,
   "metadata": {
    "collapsed": false
   },
   "outputs": [],
   "source": [
    "from IPython.display import Image\n",
    "Image(filename=output_dir + \".cutoff.png\")"
   ]
  },
  {
   "cell_type": "code",
   "execution_count": null,
   "metadata": {
    "collapsed": false
   },
   "outputs": [],
   "source": [
    "Image(filename=output_dir + \".pr.png\")"
   ]
  },
  {
   "cell_type": "code",
   "execution_count": null,
   "metadata": {
    "collapsed": false
   },
   "outputs": [],
   "source": [
    "Image(filename=output_dir + \".roc.png\")"
   ]
  },
  {
   "cell_type": "code",
   "execution_count": null,
   "metadata": {
    "collapsed": false
   },
   "outputs": [],
   "source": [
    "scoreCalc.addLabels(all_p, all_n)\n",
    "CS.predictInteractions(scoreCalc, output_dir , use_rf, num_cores)"
   ]
  },
  {
   "cell_type": "code",
   "execution_count": null,
   "metadata": {
    "collapsed": false
   },
   "outputs": [],
   "source": [
    "import GoldStandard as GS\n",
    "predF = \"%s.pred.txt\" % (output_dir)\n",
    "clustering_CMD = \"java -jar cluster_one-1.0.jar %s > %s.clust.txt\" % (predF, output_dir)\n",
    "print(clustering_CMD)\n",
    "os.system(clustering_CMD)"
   ]
  },
  {
   "cell_type": "code",
   "execution_count": null,
   "metadata": {
    "collapsed": true
   },
   "outputs": [],
   "source": [
    "CS.clustering_evaluation(evals, scoreCalc, output_dir, \",\".join([score.name for score in this_scores]), num_cores, use_rf)"
   ]
  }
 ],
 "metadata": {
  "anaconda-cloud": {},
  "kernelspec": {
   "display_name": "Python [default]",
   "language": "python",
   "name": "python2"
  },
  "language_info": {
   "codemirror_mode": {
    "name": "ipython",
    "version": 2.0
   },
   "file_extension": ".py",
   "mimetype": "text/x-python",
   "name": "python",
   "nbconvert_exporter": "python",
   "pygments_lexer": "ipython2",
   "version": "2.7.12"
  },
  "widgets": {
   "state": {
    "03549845d7024e5fac3192050715eaf3": {
     "views": [
      {
       "cell_index": 0.0
      }
     ]
    },
    "57064441fc014a73b357fd83e5f848ae": {
     "views": [
      {
       "cell_index": 0.0
      }
     ]
    },
    "637ee38aeb3d4abea1162c81ff227974": {
     "views": [
      {
       "cell_index": 0.0
      }
     ]
    },
    "68401479f1204c39be083fef557e6d19": {
     "views": [
      {
       "cell_index": 0.0
      }
     ]
    },
    "90a4a02d886a400190ad4ceba841c38f": {
     "views": [
      {
       "cell_index": 0.0
      }
     ]
    },
    "e1a7238b60174f2f9e69c77374ed83e0": {
     "views": [
      {
       "cell_index": 0.0
      }
     ]
    }
   },
   "version": "1.2.0"
  }
 },
 "nbformat": 4,
 "nbformat_minor": 0
}
