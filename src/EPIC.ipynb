{
 "cells": [
  {
   "cell_type": "code",
   "execution_count": 7,
   "metadata": {
    "collapsed": false,
    "scrolled": false
   },
   "outputs": [],
   "source": [
    "import CalculateCoElutionScores as CS\n",
    "#os.chdir(\"/home/EPIC/src\")\n",
    "import utils as utils\n",
    "\n",
    "from ipywidgets import widgets, interact, interactive\n",
    "from IPython.display import HTML, display# Basic CyRest Setup\n",
    "import json, os, sys\n",
    "\n",
    "def f(**kwargs):\n",
    "    return None\n",
    "\n",
    "features_i = interactive(f, MI=False, Bayes=False, Euclidean=False, WCC=False, Jaccard=False, PCCN=False, PCC=False, Apex=False)\n",
    "directoryName_i = interactive(f, directory=\"input directory\")\n",
    "num_cores_i = interactive(f, num_cores=\"1\")\n",
    "clf_i = interactive(f, classifier=(\"random forest\", \"SVM\"))\n",
    "target_species_i = interactive(f, target_species=\"taxid i.e. 6239 (Worm)\")\n",
    "display(features_i)\n",
    "display(directoryName_i)\n",
    "display(num_cores_i)\n",
    "display(clf_i)\n",
    "display(target_species_i)"
   ]
  },
  {
   "cell_type": "code",
   "execution_count": 8,
   "metadata": {
    "collapsed": false
   },
   "outputs": [
    {
     "name": "stdout",
     "output_type": "stream",
     "text": [
      "Output dir already exists\n",
      "4\n",
      "[False, False, False, True, False, False, True, True]\n",
      "True\n",
      "6239\n",
      "/Users/florian/workspace/scratch/EPIC_out/input/Test\n",
      "/Users/florian/workspace/scratch/EPIC_out/output/Test/Out.rf\n"
     ]
    }
   ],
   "source": [
    "featuer_selection = [features_i.kwargs[feature_name] for feature_name in ['PCC', 'Jaccard', 'Apex', 'MI', 'Euclidean',  'WCC', 'Bayes', 'PCCN'] ]\n",
    "num_cores = int(num_cores_i.kwargs['num_cores'])\n",
    "root_dir = \"/Users/florian/workspace/scratch/EPIC_out/\" #\"/home/\"\n",
    "name = directoryName_i.kwargs['directory']\n",
    "input_dir = root_dir + 'input' + os.sep + name\n",
    "output_dir = root_dir + 'output' + os.sep + name\n",
    "if os.path.exists(output_dir) == False: \n",
    "    os.mkdir(output_dir)\n",
    "else:\n",
    "    print \"Output dir already exists\"\n",
    "#    sys.exit()\n",
    "output_dir += os.sep + \"Out\"\n",
    "target_taxid = target_species_i.kwargs['target_species']\n",
    "use_rf = clf_i.kwargs['classifier'] != 'SVM'\n",
    "if use_rf:\n",
    "    output_dir += \".rf\"\n",
    "else:\n",
    "    output_dir += \".svm\"\n",
    "mode= \"exp\"\n",
    "\n",
    "#Stdout for debug\n",
    "print num_cores\n",
    "print(featuer_selection)\n",
    "print use_rf\n",
    "print target_taxid\n",
    "print input_dir\n",
    "print output_dir\n"
   ]
  },
  {
   "cell_type": "code",
   "execution_count": 9,
   "metadata": {
    "collapsed": false
   },
   "outputs": [
    {
     "name": "stdout",
     "output_type": "stream",
     "text": [
      "[<CalculateCoElutionScores.MutualInformation instance at 0x11b56f3f8>, <CalculateCoElutionScores.Bayes instance at 0x11b56f680>, <CalculateCoElutionScores.Poisson instance at 0x11b56f6c8>]\n"
     ]
    }
   ],
   "source": [
    "#Create feature combination\n",
    "all_scores = [CS.Pearson(), CS.Jaccard(), CS.Apex(), CS.MutualInformation(2), CS.Euclidiean(), CS.Wcc(), CS.Bayes(3), CS.Poisson(5)]\n",
    "this_scores = []\n",
    "for i, selection in enumerate(featuer_selection):\n",
    "\tif selection: this_scores.append(all_scores[i])\n",
    "print this_scores\n"
   ]
  },
  {
   "cell_type": "code",
   "execution_count": 10,
   "metadata": {
    "collapsed": false
   },
   "outputs": [
    {
     "name": "stdout",
     "output_type": "stream",
     "text": [
      "using Random forest\n"
     ]
    }
   ],
   "source": [
    "# Initialize CLF\n",
    "clf = CS.CLF_Wrapper(num_cores, use_rf)"
   ]
  },
  {
   "cell_type": "code",
   "execution_count": 11,
   "metadata": {
    "collapsed": false
   },
   "outputs": [
    {
     "name": "stdout",
     "output_type": "stream",
     "text": [
      "finished processing /Users/florian/workspace/scratch/EPIC_out/input/Test/BeadsA_Contrast_1000_fraction_99.txtmodifed.txt\n",
      " removed 591 (0.32) proteins with counts in only one fraction\n"
     ]
    },
    {
     "name": "stderr",
     "output_type": "stream",
     "text": [
      "CalculateCoElutionScores.py:204: RuntimeWarning: invalid value encountered in true_divide\n",
      "  return np.asarray(np.nan_to_num(mat / np.sum(mat, axis)))\n"
     ]
    },
    {
     "name": "stdout",
     "output_type": "stream",
     "text": [
      "0\n"
     ]
    },
    {
     "name": "stderr",
     "output_type": "stream",
     "text": [
      "/Users/florian/anaconda3/envs/py27/lib/python2.7/site-packages/numpy/lib/function_base.py:2569: RuntimeWarning: invalid value encountered in true_divide\n",
      "  c /= stddev[:, None]\n",
      "/Users/florian/anaconda3/envs/py27/lib/python2.7/site-packages/numpy/lib/function_base.py:2570: RuntimeWarning: invalid value encountered in true_divide\n",
      "  c /= stddev[None, :]\n"
     ]
    },
    {
     "name": "stdout",
     "output_type": "stream",
     "text": [
      "1\n",
      "2\n",
      "3\n",
      "4\n",
      "finished processing /Users/florian/workspace/scratch/EPIC_out/input/Test/BeadsALF_Contrast_1000_fraction_99.txtmodifed.txt\n",
      " removed 563 (0.32) proteins with counts in only one fraction\n",
      "0\n",
      "1\n",
      "2\n",
      "3\n",
      "4\n",
      "finished processing /Users/florian/workspace/scratch/EPIC_out/input/Test/BeadsB_Contrast_1000_fraction_99.txtmodifed.txt\n",
      " removed 571 (0.28) proteins with counts in only one fraction\n",
      "0\n",
      "1\n",
      "2\n",
      "3\n",
      "4\n",
      "finished processing /Users/florian/workspace/scratch/EPIC_out/input/Test/BeadsBNF_Contrast_1000_fraction_99.txtmodifed.txt\n",
      " removed 471 (0.28) proteins with counts in only one fraction\n",
      "0\n",
      "1\n",
      "2\n",
      "3\n",
      "4\n"
     ]
    }
   ],
   "source": [
    "# load elution data\n",
    "foundprots, elution_datas = utils.load_data(input_dir, this_scores)"
   ]
  },
  {
   "cell_type": "code",
   "execution_count": 12,
   "metadata": {
    "collapsed": false
   },
   "outputs": [
    {
     "name": "stdout",
     "output_type": "stream",
     "text": [
      "Total number of complexes 2791 in Training\n",
      "Number of complexes after ortholog mapping 1777 complexes in Training\n",
      "After size filtering 747 number of complexes in Training\n",
      "After mergning 556 number of complexes in Training\n",
      "After removing not indetified proteins 135 number of complexes in Training\n"
     ]
    }
   ],
   "source": [
    "# Generate reference data set\n",
    "all_gs = utils.create_goldstandard(target_taxid, foundprots)"
   ]
  },
  {
   "cell_type": "code",
   "execution_count": 13,
   "metadata": {
    "collapsed": false
   },
   "outputs": [
    {
     "name": "stdout",
     "output_type": "stream",
     "text": [
      "Warning: not enough negative data points in reference to create desired ratio pos:367, neg:1356\n",
      "Warning: not enough negative data points in reference to create desired ratio pos:354, neg:1356\n"
     ]
    }
   ],
   "source": [
    "# Caculating scores\n",
    "scoreCalc = CS.CalculateCoElutionScores(this_scores, elution_datas, output_dir + \".scores.txt\", num_cores=num_cores)\n",
    "#scoreCalc.calculate_coelutionDatas(gs)\n",
    "scoreCalc.readTable(\"/Users/florian/workspace/scratch/EPIC_out/output/test/Test.scores.txt\", all_gs)\n",
    "train, eval = all_gs.split_into_holdout_training(set(scoreCalc.ppiToIndex.keys()))"
   ]
  },
  {
   "cell_type": "code",
   "execution_count": 14,
   "metadata": {
    "collapsed": false
   },
   "outputs": [
    {
     "name": "stdout",
     "output_type": "stream",
     "text": [
      "Precision\n",
      "0.898936170213\n",
      "Recall\n",
      "0.477401129944\n",
      "F-Measure\n",
      "0.623616236162\n",
      "AUC PR\n",
      "0.74226221733\n",
      "AUC ROC\n",
      "0.731694665267\n"
     ]
    }
   ],
   "source": [
    "# Evaluate classifier\n",
    "utils.bench_clf(scoreCalc, train, eval, clf, output_dir, verbose=True, format=\"png\")"
   ]
  },
  {
   "cell_type": "code",
   "execution_count": 9,
   "metadata": {
    "collapsed": false
   },
   "outputs": [
    {
     "data": {
      "image/png": "[encoded data removed]",
      "text/plain": [
       "<IPython.core.display.Image object>"
      ]
     },
     "execution_count": 9,
     "metadata": {},
     "output_type": "execute_result"
    }
   ],
   "source": [
    "from IPython.display import Image\n",
    "Image(filename=output_dir + \".cutoff.png\")"
   ]
  },
  {
   "cell_type": "code",
   "execution_count": 10,
   "metadata": {
    "collapsed": false
   },
   "outputs": [
    {
     "data": {
      "image/png": "[encoded data removed]",
      "text/plain": [
       "<IPython.core.display.Image object>"
      ]
     },
     "execution_count": 10,
     "metadata": {},
     "output_type": "execute_result"
    }
   ],
   "source": [
    "Image(filename=output_dir + \".pr.png\")"
   ]
  },
  {
   "cell_type": "code",
   "execution_count": 11,
   "metadata": {
    "collapsed": false
   },
   "outputs": [
    {
     "data": {
      "image/png": "[encoded data removed]",
      "text/plain": [
       "<IPython.core.display.Image object>"
      ]
     },
     "execution_count": 11,
     "metadata": {},
     "output_type": "execute_result"
    }
   ],
   "source": [
    "Image(filename=output_dir + \".roc.png\")"
   ]
  },
  {
   "cell_type": "code",
   "execution_count": 20,
   "metadata": {
    "collapsed": false
   },
   "outputs": [
    {
     "name": "stdout",
     "output_type": "stream",
     "text": [
      "(1723, 12)\n",
      "to predict: 107180\n"
     ]
    }
   ],
   "source": [
    "# Predicting interaction network\n",
    "\n",
    "\n",
    "genemania = \"\"\n",
    "if mode != \"exp\":\n",
    "\tgenemania = CS.Genemania(\"6239\")\n",
    "\tgenemania = genemania.getScoreCalc()\n",
    "\n",
    "# Predict protein interaction\n",
    "network =  utils.make_predictions(scoreCalc, mode, clf, train, genemania)\n",
    "outFH = open(\"%s.%s.pred.txt\" % (output_dir, mode), \"w\")\n",
    "print >> outFH, \"\\n\".join(network)\n",
    "outFH.close()"
   ]
  },
  {
   "cell_type": "code",
   "execution_count": 13,
   "metadata": {
    "collapsed": false
   },
   "outputs": [],
   "source": [
    "# Predicting clusters\n",
    "utils.predict_clusters(\"%s.%s.pred.txt\" % (output_dir, mode), \"%s.%s.clust.txt\" % (output_dir, mode))"
   ]
  },
  {
   "cell_type": "code",
   "execution_count": 44,
   "metadata": {
    "collapsed": false
   },
   "outputs": [
    {
     "name": "stdout",
     "output_type": "stream",
     "text": [
      " mmr\t0.103671131467\n",
      " overlapp\t0.014599\n",
      " simcoe\t0.036496\n",
      " mean_simcoe_overlap\t0.029197\n",
      " sensetivity\t0.142595978062\n",
      " ppv\t0.330434782609\n",
      " accuracy\t0.217068355621\n",
      " sep\t0.241591680272\n"
     ]
    },
    {
     "name": "stderr",
     "output_type": "stream",
     "text": [
      "GoldStandard.py:416: RuntimeWarning: invalid value encountered in true_divide\n",
      "  row_F = np.nan_to_num(row_F/np.sum(row_F, axis=1, keepdims=True))\n",
      "GoldStandard.py:417: RuntimeWarning: invalid value encountered in true_divide\n",
      "  col_F = np.nan_to_num(col_F/np.sum(col_F, axis=0, keepdims=True))\n"
     ]
    },
    {
     "data": {
      "text/plain": [
       "('0.103671131467\\t0.014599\\t0.036496\\t0.029197\\t0.142595978062\\t0.330434782609\\t0.217068355621\\t0.241591680272',\n",
       " ' mmr\\t overlapp\\t simcoe\\t mean_simcoe_overlap\\t sensetivity\\t ppv\\t accuracy\\t sep')"
      ]
     },
     "execution_count": 44,
     "metadata": {},
     "output_type": "execute_result"
    }
   ],
   "source": [
    "import GoldStandard as GS\n",
    "# Evaluating predicted clusters\n",
    "pred_clusters = GS.Clusters(False)\n",
    "pred_clusters.read_file(\"%s.%s.clust.txt\" % (output_dir, mode))\n",
    "#utils.clustering_evaluation(train.complexes, pred_clusters, \"Train\", True)\n",
    "utils.clustering_evaluation(eval.complexes, pred_clusters, \"\", True)"
   ]
  },
  {
   "cell_type": "code",
   "execution_count": 15,
   "metadata": {
    "collapsed": false
   },
   "outputs": [
    {
     "data": {
      "text/plain": [
       "u'/Users/florian/Library/Jupyter/nbextensions/cytoscape.js'"
      ]
     },
     "execution_count": 15,
     "metadata": {},
     "output_type": "execute_result"
    }
   ],
   "source": [
    "# Uncomment these lines in order to update the Cytoscape.js extension\n",
    "# ====================================================================\n",
    "import notebook.nbextensions\n",
    "notebook.nbextensions.install_nbextension('https://cdnjs.cloudflare.com/ajax/libs/cytoscape/2.7.14/cytoscape.js', user=True)\n",
    "# ===================================================================="
   ]
  },
  {
   "cell_type": "code",
   "execution_count": 40,
   "metadata": {
    "collapsed": false
   },
   "outputs": [
    {
     "data": {
      "application/javascript": [
       "\n",
       "// Use the Cytoscape.js extension and make cytoscape global\n",
       "require(['cytoscape','cytoscape-cola', 'cola'], function (cytoscape, cycola, cola) {\n",
       "    cycola( cytoscape, cola);\n",
       "});"
      ],
      "text/plain": [
       "<IPython.core.display.Javascript object>"
      ]
     },
     "metadata": {},
     "output_type": "display_data"
    }
   ],
   "source": [
    "%%javascript\n",
    "\n",
    "// Use the Cytoscape.js extension and make cytoscape global\n",
    "require(['cytoscape','cytoscape-cola', 'cola'], function (cytoscape, cycola, cola) {\n",
    "    cycola( cytoscape, cola);\n",
    "});"
   ]
  },
  {
   "cell_type": "code",
   "execution_count": 84,
   "metadata": {
    "collapsed": true
   },
   "outputs": [],
   "source": [
    "def json_to_cy_js(div_id, style, json_str):\n",
    "\n",
    "\treturn \"\"\"\n",
    "\t            <script>\n",
    "\t                $('#cy').show();\n",
    "\t                var cy = window.cy = cytoscape({\n",
    "\t                    container: document.getElementById('%s'),\n",
    "\t                    layout: { name: '%s' },\n",
    "\t                    elements: %s,\n",
    "\t                    style: [\n",
    "\t                     {\n",
    "\t                        selector: 'node',\n",
    "\t                        style: {\n",
    "\t                          'content': 'data(name)',\n",
    "\t                          'font-size': 12,\n",
    "\t                          'text-valign': 'center',\n",
    "\t                          'text-halign': 'center',\n",
    "\t                          'background-color': '#555',\n",
    "\t                          'text-outline-color': '#555',\n",
    "\t                          'text-outline-width': 1.75,\n",
    "\t                          'color': '#fff',\n",
    "\t                          'overlay-padding': 6,\n",
    "\t                          'z-index': 10\n",
    "\t                        }\n",
    "\t                      },\n",
    "\t                      {\n",
    "\t                        selector: 'edge',\n",
    "\t                        style: {\n",
    "\t                          'line-color': 'black',\n",
    "\t                          'width': 'mapData(score, 0,100,1,10)',\n",
    "\t                        }\n",
    "\t                      },\n",
    "\t                    ]\n",
    "\t                });\n",
    "\t            </script>\"\"\" % (div_id, style, json_str)"
   ]
  },
  {
   "cell_type": "code",
   "execution_count": 85,
   "metadata": {
    "collapsed": false
   },
   "outputs": [],
   "source": [
    "def network_to_js(network):\n",
    "\tcy_elements = []\n",
    "\tnodes = []  # For Cytoscape\n",
    "\tedges = []  # For Cytoscape\n",
    "\n",
    "\n",
    "\tnet_nodes = set([])\n",
    "\tfor line in network:\n",
    "\t\tida, idb, score = line.split(\"\\t\")\n",
    "\t\tnet_nodes.add(ida)\n",
    "\t\tnet_nodes.add(idb)\n",
    "\t\tedge = {\n",
    "\t\t\t'group': 'edges',\n",
    "\t\t\t'data': {\n",
    "\t\t\t\t'source': ida,\n",
    "\t\t\t\t'target': idb,\n",
    "\t\t\t\t'score': score*100,\n",
    "\t\t\t}\n",
    "\t\t}\n",
    "\t\tcy_elements.append(edge)\n",
    "\t\tedges.append(edge)\n",
    "\n",
    "\tfor gene in net_nodes:\n",
    "\t\tnode = {\n",
    "\t\t\t'group': 'nodes',\n",
    "\t\t\t'data': {\n",
    "\t\t\t\t'id': str(gene),\n",
    "\t\t\t\t'name': gene,\n",
    "\t\t\t}\n",
    "\t\t}\n",
    "\t\tcy_elements.append(node)\n",
    "\t\tnodes.append(node)\n",
    "\n",
    "\treturn json.dumps(cy_elements, default=lambda cy_elements: cy_elements.__dict__)"
   ]
  },
  {
   "cell_type": "code",
   "execution_count": 86,
   "metadata": {
    "collapsed": false
   },
   "outputs": [],
   "source": [
    "net_json = network_to_js(network)\n",
    "net_cy_js = json_to_cy_js(\"net_cy\", \"random\", net_json)\n",
    "net_cy_div = widgets.HTML(value=\"\"\"<div id='net_cy' style=\"width: 100%; height: 500px; background: #f0f0f0;\"></div>\"\"\")\n",
    "net_js_script = widgets.HTML(value = net_cy_js)\n",
    "display(net_cy_div)\n",
    "display(net_js_script)"
   ]
  },
  {
   "cell_type": "code",
   "execution_count": 52,
   "metadata": {
    "collapsed": false
   },
   "outputs": [],
   "source": [
    "clust_json = utils.clusters_to_json(pred_clusters, network)\n",
    "clust_cy_js = utils.json_to_cy_js(\"clust_cy\", \"cose\", clust_json)\n",
    "clust_cy_div = widgets.HTML(value=\"\"\"<div id='clust_cy' style=\"width: 100%; height: 500px; background: #f0f0f0;\"></div>\"\"\")\n",
    "clust_js_script = widgets.HTML(value = clust_cy_js)\n",
    "display(clust_cy_div)\n",
    "display(clust_js_script)"
   ]
  },
  {
   "cell_type": "code",
   "execution_count": null,
   "metadata": {
    "collapsed": true
   },
   "outputs": [],
   "source": []
  },
  {
   "cell_type": "code",
   "execution_count": null,
   "metadata": {
    "collapsed": true
   },
   "outputs": [],
   "source": []
  },
  {
   "cell_type": "code",
   "execution_count": null,
   "metadata": {
    "collapsed": true
   },
   "outputs": [],
   "source": []
  },
  {
   "cell_type": "code",
   "execution_count": null,
   "metadata": {
    "collapsed": true
   },
   "outputs": [],
   "source": []
  }
 ],
 "metadata": {
  "anaconda-cloud": {},
  "kernelspec": {
   "display_name": "Python [default]",
   "language": "python",
   "name": "python2"
  },
  "language_info": {
   "codemirror_mode": {
    "name": "ipython",
    "version": 2
   },
   "file_extension": ".py",
   "mimetype": "text/x-python",
   "name": "python",
   "nbconvert_exporter": "python",
   "pygments_lexer": "ipython2",
   "version": "2.7.13"
  },
  "widgets": {
   "state": {
    "0a5476f0d6764cf6918ae5a549365553": {
     "views": [
      {
       "cell_index": 18
      }
     ]
    },
    "0aff8709401d4d23b5facb6d9ea16cd6": {
     "views": [
      {
       "cell_index": 17
      }
     ]
    },
    "1060230cf3d8400a91ef899e40a252b5": {
     "views": [
      {
       "cell_index": 18
      }
     ]
    },
    "245e8a1379c8440f841c1b8fbc991a94": {
     "views": [
      {
       "cell_index": 18
      }
     ]
    },
    "3405758098294227b12734bd815adbb6": {
     "views": [
      {
       "cell_index": 18
      }
     ]
    },
    "3c8d9f53c2c046c0a4730f5ecda8fd2c": {
     "views": [
      {
       "cell_index": 0
      }
     ]
    },
    "3e1002fd002f42208b4699cb063dd7d7": {
     "views": [
      {
       "cell_index": 17
      }
     ]
    },
    "41d1643baff74fe994326eb500733984": {
     "views": [
      {
       "cell_index": 0
      }
     ]
    },
    "532e7aa791e04774bb957fab760e61d1": {
     "views": [
      {
       "cell_index": 17
      }
     ]
    },
    "546db5f0e1b54d9f8e83105695844daf": {
     "views": [
      {
       "cell_index": 0
      }
     ]
    },
    "574a248751004db9a62edc41610d2a37": {
     "views": [
      {
       "cell_index": 17
      }
     ]
    },
    "5a3545c468044f3b84f20bf80a48de3f": {
     "views": [
      {
       "cell_index": 17
      }
     ]
    },
    "5afcadbf58c04633b7115bd0dadc577a": {
     "views": [
      {
       "cell_index": 17
      }
     ]
    },
    "6b22575eade141b385f25e5c5e0fb96f": {
     "views": [
      {
       "cell_index": 0
      }
     ]
    },
    "6f2d084668994dcabfb7fa1d146633f8": {
     "views": [
      {
       "cell_index": 17
      }
     ]
    },
    "71f323f4cf4648cc9dc920f7f5168315": {
     "views": [
      {
       "cell_index": 18
      }
     ]
    },
    "7cebb02b3bcb4c9b8c2c6c4ffed9f2ea": {
     "views": [
      {
       "cell_index": 18
      }
     ]
    },
    "8426a25dbf6d42439414177ff1418308": {
     "views": [
      {
       "cell_index": 17
      }
     ]
    },
    "8a649a26d9884a5ba5d149eed8bbc001": {
     "views": [
      {
       "cell_index": 17
      }
     ]
    },
    "91c63abfb83e4ff18ab2e8b16f5cf227": {
     "views": [
      {
       "cell_index": 16
      }
     ]
    },
    "9234525c19d34bf3ba55100eb2e63c76": {
     "views": [
      {
       "cell_index": 17
      }
     ]
    },
    "9a3b5676fe9f451b9f706754ac8bb222": {
     "views": [
      {
       "cell_index": 18
      }
     ]
    },
    "a166f08bfa7b473ab4f662a50fc98ddf": {
     "views": [
      {
       "cell_index": 17
      }
     ]
    },
    "a3bedac7d2734e4c9a17591306712179": {
     "views": [
      {
       "cell_index": 16
      }
     ]
    },
    "a9ccf8db74104c61a2e947bc42848b00": {
     "views": [
      {
       "cell_index": 17
      }
     ]
    },
    "d08fcd013d414758a620e6fc4dfa09d2": {
     "views": [
      {
       "cell_index": 18
      }
     ]
    },
    "d3fbcc57d9fa446d964b1a2d7e8e2a92": {
     "views": [
      {
       "cell_index": 18
      }
     ]
    },
    "d9386c42439c47978b75457f585865f3": {
     "views": [
      {
       "cell_index": 18
      }
     ]
    },
    "de08ff1cdddc49d99fd2dfae3742bec4": {
     "views": [
      {
       "cell_index": 17
      }
     ]
    },
    "e112d6ac36814430b4a868b895b46afb": {
     "views": [
      {
       "cell_index": 17
      }
     ]
    },
    "e71ad6d80e18476d9e59aacd1788068e": {
     "views": [
      {
       "cell_index": 18
      }
     ]
    },
    "ead334e7dc144c7ba9ea98cc25916d02": {
     "views": [
      {
       "cell_index": 0
      }
     ]
    },
    "ef62162dd8494b6bb0d1f245abd8906d": {
     "views": [
      {
       "cell_index": 18
      }
     ]
    },
    "f57e2c6ecda349f0b4e1cac2673ee352": {
     "views": [
      {
       "cell_index": 17
      }
     ]
    },
    "ff384e2f4edc430fb1f0ddef02fc0bcb": {
     "views": [
      {
       "cell_index": 17
      }
     ]
    }
   },
   "version": "1.2.0"
  }
 },
 "nbformat": 4,
 "nbformat_minor": 0
}
