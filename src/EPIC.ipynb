{
 "cells": [
  {
   "cell_type": "markdown",
   "metadata": {
    "collapsed": false,
    "hideCode": false,
    "hidePrompt": false
   },
   "source": [
    "# EPIC: Elution Profile-based Inference of Protein Complex Membership"
   ]
  },
  {
   "cell_type": "markdown",
   "metadata": {
    "hideCode": false,
    "hidePrompt": false
   },
   "source": [
    "Welcome to the EPIC predictor Jupyter web service. Please use the Kitematic file organizes to upload the selected elution profiles. The following parameters need to be set in order to run EPIC:\n",
    "\n",
    "#### Feature slection:\n",
    "select which co-elution features to calculate\n",
    "#### Mode:\n",
    "The mode which EPIC schould be run, which are experiment only (exp), functional annotation only (fa), both (comb), or bias reduces (BR). We suggest to use bias reduced when wanting to run EPIC using functional annotation without introducing bias into the pipeline.\n",
    "#### Taxid:\n",
    "Taxid of the species that was used to generate experimental data\n",
    "#### Classifier:\n",
    "Here you can select the classifier used to generate the co-elution profiles. EPIC supports both SVM and random forest. We recommend to use random forest.\n",
    "#### Functional annotation\n",
    "Which source for functional annotation to use. The options are File, Genemania, and STRING.\n",
    "#### Num cores\n",
    "Number of cores that can be used to calculate co-elution scores. Increasing this number reduces run time if the docher and the machine has multiple cores.\n",
    "#### Input directory\n",
    "The directory that contains the elution profiles in tab seperated flat files.\n"
   ]
  },
  {
   "cell_type": "code",
   "execution_count": 1,
   "metadata": {
    "collapsed": false,
    "hideCode": false,
    "hidePrompt": false,
    "init_cell": true
   },
   "outputs": [],
   "source": [
    "import os\n",
    "#os.chdir(\"/home/EPIC/src\")\n",
    "\n",
    "import CalculateCoElutionScores as CS\n",
    "import utils as utils\n",
    "from ipywidgets import widgets, interact, interactive\n",
    "from IPython.display import HTML, display, Javascript\n",
    "import json, sys, shutil, glob\n",
    "\n",
    "#Global paramters for input and output directory. These paramteres need to be changed if you want to run EPIC on local machine instead of Dockers\n",
    "root_dir = \"/Users/florian/workspace/scratch/EPIC_out/\"\n",
    "input_dir = root_dir + 'input' + os.sep \n",
    "\n",
    "projects =  [f.split(os.sep)[-2] for f in glob.glob(input_dir+\"*/\")]\n",
    "\n",
    "\n",
    "def f(**kwargs):\n",
    "    return None\n",
    "\n",
    "directoryName_i = widgets.SelectMultiple(\n",
    "    options=projects,\n",
    "    value=[projects[0]],\n",
    "    description='Input',\n",
    "    disabled=False\n",
    ")\n",
    "\n",
    "features_i = interactive(f, MI=False, Bayes=False, Euclidean=False, WCC=False, Jaccard=False, PCCN=False, PCC=False, Apex=False)\n",
    "num_cores_i = interactive(f, num_cores=\"1\")\n",
    "clf_i = widgets.RadioButtons(\n",
    "    options=[\"Random forest\", \"SVM\"],\n",
    "    description='Classifier',\n",
    "    disabled=False\n",
    ")\n",
    "target_species_i = interactive(f, target_species=\"taxid i.e. 6239 (Worm)\")\n",
    "mode_i = widgets.RadioButtons(\n",
    "    options=['exp', 'fa', 'comb', 'BR'],\n",
    "    description='Mode',\n",
    "    disabled=False\n",
    ")\n",
    "fa_source_i = widgets.RadioButtons(\n",
    "    options=['GM', 'STRING'],\n",
    "    description='FA source',\n",
    "    disabled=False\n",
    ")\n",
    "\n",
    "display(directoryName_i)\n",
    "display(features_i)\n",
    "display(num_cores_i)\n",
    "display(clf_i)\n",
    "display(target_species_i)\n",
    "display(mode_i)\n",
    "display(fa_source_i)"
   ]
  },
  {
   "cell_type": "code",
   "execution_count": 2,
   "metadata": {
    "collapsed": false,
    "hideCode": false,
    "hidePrompt": false
   },
   "outputs": [
    {
     "name": "stdout",
     "output_type": "stream",
     "text": [
      "Output dir already exists and removing content\n",
      "4\n",
      "[False, False, True, True, False, False, False, False]\n",
      "True\n",
      "6239\n",
      "/Users/florian/workspace/scratch/EPIC_out/input/test\n",
      "/Users/florian/workspace/scratch/EPIC_out/output/test/Out.rf\n",
      "exp\n",
      "GM\n"
     ]
    }
   ],
   "source": [
    "featuer_selection = [features_i.kwargs[feature_name] for feature_name in ['PCC', 'Jaccard', 'Apex', 'MI', 'Euclidean',  'WCC', 'Bayes', 'PCCN'] ]\n",
    "num_cores = int(num_cores_i.kwargs['num_cores'])\n",
    "name = directoryName_i.value[0]\n",
    "anno_source = fa_source_i.value\n",
    "mode = mode_i.value\n",
    "input_dir = root_dir + 'input' + os.sep  + name\n",
    "output_dir = root_dir + 'output' + os.sep + name\n",
    "\n",
    "if os.path.exists(output_dir) == False: \n",
    "    os.mkdir(output_dir)\n",
    "else:\n",
    "    print \"Output dir already exists and removing content\"\n",
    "    shutil.rmtree(output_dir)\n",
    "    os.mkdir(output_dir)\n",
    "    \n",
    "output_dir += os.sep + \"Out\"\n",
    "target_taxid = target_species_i.kwargs['target_species']\n",
    "use_rf = clf_i.value != 'SVM'\n",
    "if use_rf:\n",
    "    output_dir += \".rf\"\n",
    "else:\n",
    "    output_dir += \".svm\"\n",
    "\n",
    "#Stdout for debug\n",
    "print num_cores\n",
    "print(featuer_selection)\n",
    "print use_rf\n",
    "print target_taxid\n",
    "print input_dir\n",
    "print output_dir\n",
    "print mode\n",
    "print anno_source\n"
   ]
  },
  {
   "cell_type": "code",
   "execution_count": 3,
   "metadata": {
    "collapsed": false,
    "hideCode": false,
    "hidePrompt": false
   },
   "outputs": [
    {
     "name": "stdout",
     "output_type": "stream",
     "text": [
      "[<CalculateCoElutionScores.Apex object at 0x115aefed0>, <CalculateCoElutionScores.Wcc instance at 0x115aeb2d8>]\n"
     ]
    }
   ],
   "source": [
    "#Create feature combination\n",
    "all_scores = [CS.Pearson(), CS.Jaccard(), CS.Apex(), CS.MutualInformation(2), CS.Euclidiean(), CS.Wcc(), CS.Bayes(3), CS.Poisson(5)]\n",
    "this_scores = []\n",
    "for i, selection in enumerate(featuer_selection):\n",
    "\tif selection: this_scores.append(all_scores[i])\n",
    "\n",
    "# Stdout for debug\n",
    "print this_scores\n"
   ]
  },
  {
   "cell_type": "markdown",
   "metadata": {
    "hideCode": false,
    "hideOutput": false,
    "hidePrompt": false
   },
   "source": [
    "## Initializing the classifier"
   ]
  },
  {
   "cell_type": "code",
   "execution_count": 5,
   "metadata": {
    "collapsed": false,
    "hideCode": false,
    "hidePrompt": false
   },
   "outputs": [
    {
     "name": "stdout",
     "output_type": "stream",
     "text": [
      "using Random forest\n"
     ]
    }
   ],
   "source": [
    "# Initialize CLF\n",
    "clf = CS.CLF_Wrapper(num_cores, use_rf)"
   ]
  },
  {
   "cell_type": "markdown",
   "metadata": {
    "hideCode": false,
    "hidePrompt": false
   },
   "source": [
    "# Loading Elution prfile data\n",
    "EPIC loads in the elution data and removes proteins that are observed in exactly one fraction per experiment. Optimally the percentage of removed proteins should not exceed 50% "
   ]
  },
  {
   "cell_type": "code",
   "execution_count": 9,
   "metadata": {
    "collapsed": false,
    "hideCode": false,
    "hidePrompt": false
   },
   "outputs": [
    {
     "name": "stdout",
     "output_type": "stream",
     "text": [
      "/Users/florian/workspace/scratch/EPIC_out/input/test\n",
      "finished processing /Users/florian/workspace/scratch/EPIC_out/input/test/BeadsA_Contrast_1000_fraction_99.txtmodifed.txt\n",
      " removed 591 (0.32) proteins with counts in only one fraction\n",
      "finished processing /Users/florian/workspace/scratch/EPIC_out/input/test/BeadsALF_Contrast_1000_fraction_99.txtmodifed.txt\n",
      " removed 563 (0.32) proteins with counts in only one fraction\n",
      "finished processing /Users/florian/workspace/scratch/EPIC_out/input/test/BeadsB_Contrast_1000_fraction_99.txtmodifed.txt\n",
      " removed 571 (0.28) proteins with counts in only one fraction\n",
      "finished processing /Users/florian/workspace/scratch/EPIC_out/input/test/BeadsBNF_Contrast_1000_fraction_99.txtmodifed.txt\n",
      " removed 471 (0.28) proteins with counts in only one fraction\n"
     ]
    }
   ],
   "source": [
    "# load elution data\n",
    "print input_dir\n",
    "foundprots, elution_datas = utils.load_data(input_dir, this_scores)"
   ]
  },
  {
   "cell_type": "markdown",
   "metadata": {
    "hideCode": false,
    "hidePrompt": false
   },
   "source": [
    "# Generating reference data\n",
    "In this step EPIC automatically generate reference data taken from CORUM, Intact, and GO. We recommend the final number of complexes to be at least 100."
   ]
  },
  {
   "cell_type": "code",
   "execution_count": 10,
   "metadata": {
    "collapsed": false,
    "hideCode": false,
    "hidePrompt": false
   },
   "outputs": [
    {
     "name": "stdout",
     "output_type": "stream",
     "text": [
      "Total number of complexes 2791 in Training\n",
      "Number of complexes after ortholog mapping 1912 complexes in Training\n",
      "After removing not indetified proteins 157 number of complexes in Training\n",
      "After size filtering 157 number of complexes in Training\n",
      "After mergning 119 number of complexes in Training\n"
     ]
    }
   ],
   "source": [
    "# Generate reference data set\n",
    "all_gs = utils.create_goldstandard(target_taxid, foundprots)"
   ]
  },
  {
   "cell_type": "markdown",
   "metadata": {
    "hideCode": false,
    "hidePrompt": false
   },
   "source": [
    "# Calculating co-elution scores\n",
    "This is the most time intensive step of EPIC and on average take 20 min per co-elution score per experiment."
   ]
  },
  {
   "cell_type": "code",
   "execution_count": 11,
   "metadata": {
    "collapsed": false,
    "hideCode": false,
    "hidePrompt": false
   },
   "outputs": [],
   "source": [
    "# Caculating scores\n",
    "scoreCalc = CS.CalculateCoElutionScores(this_scores, elution_datas, output_dir + \".scores.txt\", num_cores=num_cores)\n",
    "#scoreCalc.calculate_coelutionDatas(all_gs)\n",
    "# For debug readin precalculated co-elution scores\n",
    "scoreCalc.readTable(\"/Users/florian/workspace/scratch/EPIC_out/input/Out.rf.scores.txt\", all_gs)"
   ]
  },
  {
   "cell_type": "markdown",
   "metadata": {
    "hideCode": false,
    "hidePrompt": false
   },
   "source": [
    "# Generating reference training split\n",
    "Considere increasing experimental data, or removing train/eval split in case there are not enough referenc eedges to balance the data sets."
   ]
  },
  {
   "cell_type": "code",
   "execution_count": 12,
   "metadata": {
    "collapsed": false,
    "hideCode": false,
    "hidePrompt": false
   },
   "outputs": [],
   "source": [
    "train, eval = all_gs.split_into_holdout_training(set(scoreCalc.ppiToIndex.keys()))"
   ]
  },
  {
   "cell_type": "markdown",
   "metadata": {
    "hideCode": false,
    "hidePrompt": false
   },
   "source": [
    "# Classifier evaluation"
   ]
  },
  {
   "cell_type": "code",
   "execution_count": 13,
   "metadata": {
    "collapsed": false,
    "hideCode": false,
    "hidePrompt": false
   },
   "outputs": [
    {
     "name": "stdout",
     "output_type": "stream",
     "text": [
      "Precision\n",
      "0.70297029703\n",
      "Recall\n",
      "0.498245614035\n",
      "F-Measure\n",
      "0.583162217659\n",
      "AUC PR\n",
      "0.642420821029\n",
      "AUC ROC\n",
      "0.728070175439\n"
     ]
    }
   ],
   "source": [
    "# Evaluate classifier\n",
    "utils.bench_clf(scoreCalc, train, eval, clf, output_dir, verbose=True, format=\"png\")"
   ]
  },
  {
   "cell_type": "markdown",
   "metadata": {
    "hideCode": false,
    "hidePrompt": false
   },
   "source": [
    "## Precision and recall values for various classifier confidence cutoffs"
   ]
  },
  {
   "cell_type": "code",
   "execution_count": 14,
   "metadata": {
    "collapsed": false,
    "hideCode": false,
    "hidePrompt": false
   },
   "outputs": [
    {
     "data": {
      "image/png": "[encoded data removed]",
      "text/plain": [
       "<IPython.core.display.Image object>"
      ]
     },
     "execution_count": 14,
     "metadata": {},
     "output_type": "execute_result"
    }
   ],
   "source": [
    "from IPython.display import Image\n",
    "Image(filename=output_dir + \".cutoff.png\")"
   ]
  },
  {
   "cell_type": "markdown",
   "metadata": {
    "hideCode": false,
    "hidePrompt": false
   },
   "source": [
    "## Precision-recall curve"
   ]
  },
  {
   "cell_type": "code",
   "execution_count": 15,
   "metadata": {
    "collapsed": false,
    "hideCode": false,
    "hidePrompt": false
   },
   "outputs": [
    {
     "data": {
      "image/png": "[encoded data removed]",
      "text/plain": [
       "<IPython.core.display.Image object>"
      ]
     },
     "execution_count": 15,
     "metadata": {},
     "output_type": "execute_result"
    }
   ],
   "source": [
    "Image(filename=output_dir + \".pr.png\")"
   ]
  },
  {
   "cell_type": "markdown",
   "metadata": {
    "hideCode": false,
    "hidePrompt": false
   },
   "source": [
    "## ROC curve"
   ]
  },
  {
   "cell_type": "code",
   "execution_count": 16,
   "metadata": {
    "collapsed": false,
    "hideCode": false,
    "hidePrompt": false
   },
   "outputs": [
    {
     "data": {
      "image/png": "[encoded data removed]",
      "text/plain": [
       "<IPython.core.display.Image object>"
      ]
     },
     "execution_count": 16,
     "metadata": {},
     "output_type": "execute_result"
    }
   ],
   "source": [
    "Image(filename=output_dir + \".roc.png\")"
   ]
  },
  {
   "cell_type": "code",
   "execution_count": 17,
   "metadata": {
    "collapsed": false,
    "hideCode": false,
    "hidePrompt": false
   },
   "outputs": [
    {
     "name": "stdout",
     "output_type": "stream",
     "text": [
      "exp\n",
      "GM\n",
      "FA\n",
      "\n",
      "to predict: 284475\n"
     ]
    }
   ],
   "source": [
    "# Predicting interaction network\n",
    "print mode\n",
    "\n",
    "functionalData = \"\"\n",
    "if mode != \"exp\":\n",
    "    functionalData = utils.get_FA_data(anno_source)\n",
    "print anno_source\n",
    "print \"FA\"\n",
    "print functionalData\n",
    "\n",
    "# Predict protein interaction\n",
    "network =  utils.make_predictions(scoreCalc, mode, clf, all_gs, functionalData)\n",
    "outFH = open(\"%s.%s.pred.txt\" % (output_dir, mode), \"w\")\n",
    "print >> outFH, \"\\n\".join(network)\n",
    "outFH.close()"
   ]
  },
  {
   "cell_type": "code",
   "execution_count": 18,
   "metadata": {
    "collapsed": false,
    "hideCode": false,
    "hidePrompt": false
   },
   "outputs": [],
   "source": [
    "# Predicting clusters\n",
    "utils.predict_clusters(\"%s.%s.pred.txt\" % (output_dir, mode), \"%s.%s.clust.txt\" % (output_dir, mode))"
   ]
  },
  {
   "cell_type": "markdown",
   "metadata": {
    "hideCode": false,
    "hidePrompt": false
   },
   "source": [
    "# Clustering evaluation"
   ]
  },
  {
   "cell_type": "code",
   "execution_count": 19,
   "metadata": {
    "collapsed": false,
    "hideCode": false,
    "hidePrompt": false,
    "scrolled": true
   },
   "outputs": [
    {
     "name": "stdout",
     "output_type": "stream",
     "text": [
      " mmr\t0.386044702272\n",
      " overlapp\t0.089080\n",
      " simcoe\t0.089080\n",
      " mean_simcoe_overlap\t0.091954\n",
      " sensetivity\t0.100509495137\n",
      " ppv\t0.586402266289\n",
      " accuracy\t0.242773548254\n",
      " sep\t0.191098340758\n"
     ]
    },
    {
     "name": "stderr",
     "output_type": "stream",
     "text": [
      "GoldStandard.py:419: RuntimeWarning: invalid value encountered in true_divide\n",
      "  row_F = np.nan_to_num(row_F/np.sum(row_F, axis=1, keepdims=True))\n"
     ]
    },
    {
     "data": {
      "text/plain": [
       "('0.386044702272\\t0.089080\\t0.089080\\t0.091954\\t0.100509495137\\t0.586402266289\\t0.242773548254\\t0.191098340758',\n",
       " ' mmr\\t overlapp\\t simcoe\\t mean_simcoe_overlap\\t sensetivity\\t ppv\\t accuracy\\t sep')"
      ]
     },
     "execution_count": 19,
     "metadata": {},
     "output_type": "execute_result"
    }
   ],
   "source": [
    "import GoldStandard as GS\n",
    "# Evaluating predicted clusters\n",
    "pred_clusters = GS.Clusters(False)\n",
    "pred_clusters.read_file(\"%s.%s.clust.txt\" % (output_dir, mode))\n",
    "#utils.clustering_evaluation(train.complexes, pred_clusters, \"Train\", True)\n",
    "utils.clustering_evaluation(eval.complexes, pred_clusters, \"\", True)"
   ]
  },
  {
   "cell_type": "code",
   "execution_count": 20,
   "metadata": {
    "collapsed": false,
    "hideCode": false,
    "hidePrompt": false
   },
   "outputs": [
    {
     "data": {
      "text/plain": [
       "u'/Users/florian/Library/Jupyter/nbextensions/cytoscape.js'"
      ]
     },
     "execution_count": 20,
     "metadata": {},
     "output_type": "execute_result"
    }
   ],
   "source": [
    "# Uncomment these lines in order to update the Cytoscape.js extension\n",
    "# ====================================================================\n",
    "import notebook.nbextensions\n",
    "notebook.nbextensions.install_nbextension('https://cdnjs.cloudflare.com/ajax/libs/cytoscape/2.7.14/cytoscape.js', user=True)\n",
    "# ===================================================================="
   ]
  },
  {
   "cell_type": "code",
   "execution_count": 21,
   "metadata": {
    "collapsed": false,
    "hideCode": false,
    "hidePrompt": false
   },
   "outputs": [
    {
     "data": {
      "application/javascript": [
       "\n",
       "// Use the Cytoscape.js extension and make cytoscape global\n",
       "require(['nbextensions/cytoscape'], function (cytoscape) {\n",
       "    window.cytoscape = cytoscape;\n",
       "});"
      ],
      "text/plain": [
       "<IPython.core.display.Javascript object>"
      ]
     },
     "metadata": {},
     "output_type": "display_data"
    }
   ],
   "source": [
    "%%javascript\n",
    "\n",
    "// Use the Cytoscape.js extension and make cytoscape global\n",
    "require(['nbextensions/cytoscape'], function (cytoscape) {\n",
    "    window.cytoscape = cytoscape;\n",
    "});"
   ]
  },
  {
   "cell_type": "code",
   "execution_count": 22,
   "metadata": {
    "collapsed": false,
    "hideCode": false,
    "hidePrompt": false
   },
   "outputs": [],
   "source": [
    "all_eData_head, all_eData_scores = utils.elutionDatas_to_treeview(elution_datas, foundprots)\n",
    "clust_json, clust_edges, clust_nodes = utils.clusters_to_json(pred_clusters, network, all_eData_head, all_eData_scores)"
   ]
  },
  {
   "cell_type": "markdown",
   "metadata": {
    "hideCode": false,
    "hidePrompt": false
   },
   "source": [
    "# Clustering network"
   ]
  },
  {
   "cell_type": "code",
   "execution_count": 23,
   "metadata": {
    "collapsed": false,
    "hideCode": false,
    "hidePrompt": false
   },
   "outputs": [
    {
     "ename": "NameError",
     "evalue": "name 'json_to_cy_js' is not defined",
     "output_type": "error",
     "traceback": [
      "\u001b[0;31m---------------------------------------------------------------------------\u001b[0m",
      "\u001b[0;31mNameError\u001b[0m                                 Traceback (most recent call last)",
      "\u001b[0;32m<ipython-input-23-7c90dbe42230>\u001b[0m in \u001b[0;36m<module>\u001b[0;34m()\u001b[0m\n\u001b[0;32m----> 1\u001b[0;31m \u001b[0mclust_js\u001b[0m \u001b[0;34m=\u001b[0m \u001b[0mjson_to_cy_js\u001b[0m\u001b[0;34m(\u001b[0m\u001b[0;34m\"clust_cy\"\u001b[0m\u001b[0;34m,\u001b[0m \u001b[0mclust_json\u001b[0m\u001b[0;34m)\u001b[0m\u001b[0;34m\u001b[0m\u001b[0m\n\u001b[0m\u001b[1;32m      2\u001b[0m \u001b[0mclust_cy_div\u001b[0m \u001b[0;34m=\u001b[0m \u001b[0;34m\"\"\"<div id='clust_cy' style=\"width: 100%; height: 500px; background: #f0f0f0;\"></div>\"\"\"\u001b[0m\u001b[0;34m\u001b[0m\u001b[0m\n\u001b[1;32m      3\u001b[0m \u001b[0mdisplay\u001b[0m\u001b[0;34m(\u001b[0m\u001b[0mHTML\u001b[0m\u001b[0;34m(\u001b[0m\u001b[0mclust_cy_div\u001b[0m\u001b[0;34m)\u001b[0m\u001b[0;34m)\u001b[0m\u001b[0;34m\u001b[0m\u001b[0m\n\u001b[1;32m      4\u001b[0m \u001b[0mJavascript\u001b[0m\u001b[0;34m(\u001b[0m\u001b[0mclust_js\u001b[0m\u001b[0;34m)\u001b[0m\u001b[0;34m\u001b[0m\u001b[0m\n",
      "\u001b[0;31mNameError\u001b[0m: name 'json_to_cy_js' is not defined"
     ]
    }
   ],
   "source": [
    "clust_js = json_to_cy_js(\"clust_cy\", clust_json)\n",
    "clust_cy_div = \"\"\"<div id='clust_cy' style=\"width: 100%; height: 500px; background: #f0f0f0;\"></div>\"\"\"\n",
    "display(HTML(clust_cy_div))\n",
    "Javascript(clust_js)"
   ]
  },
  {
   "cell_type": "markdown",
   "metadata": {
    "hideCode": false,
    "hidePrompt": false
   },
   "source": [
    "# Sending cluster data to running cytoscape instance"
   ]
  },
  {
   "cell_type": "code",
   "execution_count": 24,
   "metadata": {
    "collapsed": false,
    "hideCode": false,
    "hidePrompt": false
   },
   "outputs": [],
   "source": [
    "import requests\n",
    "\n",
    "BASE, DATA, HEADERS = utils.prep_network_for_cy(clust_nodes, clust_edges)\n",
    "res = requests.delete(BASE + 'session')\n",
    "json.dumps(res.json())\n",
    "req = requests.post(BASE + 'networks', data=DATA, headers=HEADERS)\n"
   ]
  },
  {
   "cell_type": "code",
   "execution_count": null,
   "metadata": {
    "collapsed": true
   },
   "outputs": [],
   "source": []
  }
 ],
 "metadata": {
  "anaconda-cloud": {},
  "celltoolbar": "Edit Metadata",
  "hide_code_all_hidden": false,
  "kernelspec": {
   "display_name": "Python [conda env:py27]",
   "language": "python",
   "name": "conda-env-py27-py"
  },
  "language_info": {
   "codemirror_mode": {
    "name": "ipython",
    "version": 2
   },
   "file_extension": ".py",
   "mimetype": "text/x-python",
   "name": "python",
   "nbconvert_exporter": "python",
   "pygments_lexer": "ipython2",
   "version": "2.7.13"
  },
  "widgets": {
   "state": {
    "36a102645923415fba129f8995eab601": {
     "views": [
      {
       "cell_index": 2
      }
     ]
    },
    "533322dc1add4807bb5e3298a2ffbb2a": {
     "views": [
      {
       "cell_index": 2
      }
     ]
    },
    "5ef9b50fad144341b001325facfdcf88": {
     "views": [
      {
       "cell_index": 2
      }
     ]
    },
    "684ce09c9a87426e9096dc77cbbbc3fd": {
     "views": [
      {
       "cell_index": 2
      }
     ]
    },
    "a833a3e96fb34af1a78b41240b54ffb2": {
     "views": [
      {
       "cell_index": 2
      }
     ]
    },
    "b8bcb44634f146f58e0bb1ec49859700": {
     "views": [
      {
       "cell_index": 2
      }
     ]
    },
    "fe8bd73b6464414cb475177007946e7f": {
     "views": [
      {
       "cell_index": 2
      }
     ]
    }
   },
   "version": "1.2.0"
  }
 },
 "nbformat": 4,
 "nbformat_minor": 0
}
